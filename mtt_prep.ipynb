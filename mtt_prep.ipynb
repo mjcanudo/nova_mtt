{
 "cells": [
  {
   "cell_type": "code",
   "execution_count": 0,
   "metadata": {
    "application/vnd.databricks.v1+cell": {
     "cellMetadata": {
      "byteLimit": 2048000,
      "rowLimit": 10000
     },
     "inputWidgets": {},
     "nuid": "6ddf4455-34a4-4d8a-80cf-9d7e778336c7",
     "showTitle": false,
     "tableResultSettingsMap": {},
     "title": ""
    }
   },
   "outputs": [],
   "source": [
    "from pyspark.sql.functions import *\n",
    "from pyspark.sql.types import IntegerType"
   ]
  },
  {
   "cell_type": "code",
   "execution_count": 0,
   "metadata": {
    "application/vnd.databricks.v1+cell": {
     "cellMetadata": {
      "byteLimit": 2048000,
      "rowLimit": 10000
     },
     "inputWidgets": {},
     "nuid": "632657fd-4d5c-4df5-a387-37832e8cc7fc",
     "showTitle": false,
     "tableResultSettingsMap": {},
     "title": ""
    }
   },
   "outputs": [
    {
     "output_type": "display_data",
     "data": {
      "text/html": [
       "\n",
       "            <div>\n",
       "                <p><b>SparkSession - hive</b></p>\n",
       "                \n",
       "        <div>\n",
       "            <p><b>SparkContext</b></p>\n",
       "\n",
       "            <p><a href=\"/?o=2331139696560261#setting/sparkui/1106-192857-onsudtjx/driver-5866560982633229350\">Spark UI</a></p>\n",
       "\n",
       "            <dl>\n",
       "              <dt>Version</dt>\n",
       "                <dd><code>v3.3.2</code></dd>\n",
       "              <dt>Master</dt>\n",
       "                <dd><code>local[8]</code></dd>\n",
       "              <dt>AppName</dt>\n",
       "                <dd><code>Databricks Shell</code></dd>\n",
       "            </dl>\n",
       "        </div>\n",
       "        \n",
       "            </div>\n",
       "        "
      ]
     },
     "metadata": {
      "application/vnd.databricks.v1+output": {
       "addedWidgets": {},
       "arguments": {},
       "data": "\n            <div>\n                <p><b>SparkSession - hive</b></p>\n                \n        <div>\n            <p><b>SparkContext</b></p>\n\n            <p><a href=\"/?o=2331139696560261#setting/sparkui/1106-192857-onsudtjx/driver-5866560982633229350\">Spark UI</a></p>\n\n            <dl>\n              <dt>Version</dt>\n                <dd><code>v3.3.2</code></dd>\n              <dt>Master</dt>\n                <dd><code>local[8]</code></dd>\n              <dt>AppName</dt>\n                <dd><code>Databricks Shell</code></dd>\n            </dl>\n        </div>\n        \n            </div>\n        ",
       "datasetInfos": [],
       "metadata": {},
       "removedWidgets": [],
       "textData": null,
       "type": "htmlSandbox"
      }
     },
     "output_type": "display_data"
    }
   ],
   "source": [
    "spark"
   ]
  },
  {
   "cell_type": "code",
   "execution_count": 0,
   "metadata": {
    "application/vnd.databricks.v1+cell": {
     "cellMetadata": {
      "byteLimit": 2048000,
      "rowLimit": 10000
     },
     "inputWidgets": {},
     "nuid": "f92e5bbe-26f5-4ce3-baec-c4bd8dcb0906",
     "showTitle": false,
     "tableResultSettingsMap": {},
     "title": ""
    }
   },
   "outputs": [],
   "source": [
    "df_flights = spark.read.csv('/databricks-datasets/definitive-guide/data/flight-data/csv/2013-summary.csv',\n",
    "                            inferSchema=True,\n",
    "                            header=True)"
   ]
  },
  {
   "cell_type": "code",
   "execution_count": 0,
   "metadata": {
    "application/vnd.databricks.v1+cell": {
     "cellMetadata": {
      "byteLimit": 2048000,
      "rowLimit": 10000
     },
     "inputWidgets": {},
     "nuid": "dd9776e1-4501-4213-ad86-09737e147024",
     "showTitle": false,
     "tableResultSettingsMap": {},
     "title": ""
    }
   },
   "outputs": [
    {
     "output_type": "display_data",
     "data": {
      "text/html": [
       "<style scoped>\n",
       "  .table-result-container {\n",
       "    max-height: 300px;\n",
       "    overflow: auto;\n",
       "  }\n",
       "  table, th, td {\n",
       "    border: 1px solid black;\n",
       "    border-collapse: collapse;\n",
       "  }\n",
       "  th, td {\n",
       "    padding: 5px;\n",
       "  }\n",
       "  th {\n",
       "    text-align: left;\n",
       "  }\n",
       "</style><div class='table-result-container'><table class='table-result'><thead style='background-color: white'><tr><th>DEST_COUNTRY_NAME</th><th>ORIGIN_COUNTRY_NAME</th><th>count</th></tr></thead><tbody><tr><td>United States</td><td>Romania</td><td>12</td></tr><tr><td>United States</td><td>Croatia</td><td>1</td></tr><tr><td>United States</td><td>Ireland</td><td>266</td></tr><tr><td>Egypt</td><td>United States</td><td>13</td></tr><tr><td>United States</td><td>India</td><td>60</td></tr><tr><td>Equatorial Guinea</td><td>United States</td><td>1</td></tr><tr><td>United States</td><td>Niger</td><td>1</td></tr><tr><td>United States</td><td>Singapore</td><td>22</td></tr><tr><td>United States</td><td>Grenada</td><td>40</td></tr><tr><td>Costa Rica</td><td>United States</td><td>509</td></tr><tr><td>Senegal</td><td>United States</td><td>28</td></tr><tr><td>Guyana</td><td>United States</td><td>34</td></tr><tr><td>United States</td><td>Sint Maarten</td><td>260</td></tr><tr><td>United States</td><td>Marshall Islands</td><td>33</td></tr><tr><td>Bolivia</td><td>United States</td><td>33</td></tr><tr><td>Anguilla</td><td>United States</td><td>22</td></tr><tr><td>United States</td><td>Paraguay</td><td>15</td></tr><tr><td>Algeria</td><td>United States</td><td>2</td></tr><tr><td>Turks and Caicos Islands</td><td>United States</td><td>181</td></tr><tr><td>Saint Vincent and the Grenadines</td><td>United States</td><td>4</td></tr><tr><td>Lithuania</td><td>United States</td><td>1</td></tr><tr><td>Pakistan</td><td>United States</td><td>14</td></tr><tr><td>Italy</td><td>United States</td><td>327</td></tr><tr><td>United States</td><td>Russia</td><td>167</td></tr><tr><td>United States</td><td>Federated States of Micronesia</td><td>62</td></tr><tr><td>United States</td><td>Netherlands</td><td>618</td></tr><tr><td>Iceland</td><td>United States</td><td>146</td></tr><tr><td>Marshall Islands</td><td>United States</td><td>50</td></tr><tr><td>Luxembourg</td><td>United States</td><td>160</td></tr><tr><td>Honduras</td><td>United States</td><td>423</td></tr><tr><td>Rwanda</td><td>United States</td><td>1</td></tr><tr><td>The Bahamas</td><td>United States</td><td>865</td></tr><tr><td>El Salvador</td><td>United States</td><td>551</td></tr><tr><td>United States</td><td>Senegal</td><td>32</td></tr><tr><td>Samoa</td><td>United States</td><td>25</td></tr><tr><td>United States</td><td>Angola</td><td>12</td></tr><tr><td>Kazakhstan</td><td>United States</td><td>2</td></tr><tr><td>Switzerland</td><td>United States</td><td>288</td></tr><tr><td>United States</td><td>Anguilla</td><td>18</td></tr><tr><td>United States</td><td>Mali</td><td>1</td></tr><tr><td>Sint Maarten</td><td>United States</td><td>271</td></tr><tr><td>Hong Kong</td><td>United States</td><td>282</td></tr><tr><td>Trinidad and Tobago</td><td>United States</td><td>183</td></tr><tr><td>Latvia</td><td>United States</td><td>29</td></tr><tr><td>United States</td><td>Ecuador</td><td>307</td></tr><tr><td>Suriname</td><td>United States</td><td>15</td></tr><tr><td>Mexico</td><td>United States</td><td>6372</td></tr><tr><td>Ecuador</td><td>United States</td><td>252</td></tr><tr><td>United States</td><td>Portugal</td><td>126</td></tr><tr><td>United States</td><td>Costa Rica</td><td>549</td></tr><tr><td>United States</td><td>Guatemala</td><td>331</td></tr><tr><td>United States</td><td>Suriname</td><td>21</td></tr><tr><td>Colombia</td><td>United States</td><td>798</td></tr><tr><td>United States</td><td>Cape Verde</td><td>15</td></tr><tr><td>Norway</td><td>United States</td><td>48</td></tr><tr><td>United States</td><td>Jamaica</td><td>599</td></tr><tr><td>United States</td><td>Malaysia</td><td>1</td></tr><tr><td>United States</td><td>Morocco</td><td>16</td></tr><tr><td>Thailand</td><td>United States</td><td>2</td></tr><tr><td>Burundi</td><td>United States</td><td>1</td></tr><tr><td>Venezuela</td><td>United States</td><td>350</td></tr><tr><td>United States</td><td>Samoa</td><td>25</td></tr><tr><td>United States</td><td>Palau</td><td>35</td></tr><tr><td>United States</td><td>Venezuela</td><td>295</td></tr><tr><td>Panama</td><td>United States</td><td>418</td></tr><tr><td>United States</td><td>Finland</td><td>15</td></tr><tr><td>Morocco</td><td>United States</td><td>18</td></tr><tr><td>Antigua and Barbuda</td><td>United States</td><td>123</td></tr><tr><td>United States</td><td>Chile</td><td>171</td></tr><tr><td>Azerbaijan</td><td>United States</td><td>3</td></tr><tr><td>United States</td><td>Greece</td><td>14</td></tr><tr><td>United States</td><td>The Bahamas</td><td>897</td></tr><tr><td>New Zealand</td><td>United States</td><td>114</td></tr><tr><td>United States</td><td>Hong Kong</td><td>344</td></tr><tr><td>Hungary</td><td>United States</td><td>1</td></tr><tr><td>United States</td><td>China</td><td>614</td></tr><tr><td>United States</td><td>Kuwait</td><td>24</td></tr><tr><td>Sweden</td><td>United States</td><td>70</td></tr><tr><td>United States</td><td>Egypt</td><td>12</td></tr><tr><td>United States</td><td>Dominican Republic</td><td>1119</td></tr><tr><td>Israel</td><td>United States</td><td>119</td></tr><tr><td>United States</td><td>United States</td><td>343132</td></tr><tr><td>United States</td><td>Luxembourg</td><td>134</td></tr><tr><td>Ethiopia</td><td>United States</td><td>12</td></tr><tr><td>United States</td><td>Poland</td><td>37</td></tr><tr><td>Martinique</td><td>United States</td><td>26</td></tr><tr><td>United States</td><td>Zimbabwe</td><td>2</td></tr><tr><td>United States</td><td>Saint Barthelemy</td><td>58</td></tr><tr><td>Saint Barthelemy</td><td>United States</td><td>67</td></tr><tr><td>United States</td><td>Turkey</td><td>100</td></tr><tr><td>Barbados</td><td>United States</td><td>97</td></tr><tr><td>Germany</td><td>United States</td><td>1423</td></tr><tr><td>Kyrgyzstan</td><td>United States</td><td>1</td></tr><tr><td>United States</td><td>South Korea</td><td>687</td></tr><tr><td>United States</td><td>El Salvador</td><td>466</td></tr><tr><td>Ireland</td><td>United States</td><td>255</td></tr><tr><td>Malaysia</td><td>United States</td><td>2</td></tr><tr><td>United States</td><td>Aruba</td><td>344</td></tr><tr><td>United States</td><td>Panama</td><td>419</td></tr><tr><td>United States</td><td>Ethiopia</td><td>12</td></tr><tr><td>United States</td><td>Turks and Caicos Islands</td><td>178</td></tr><tr><td>United States</td><td>Pakistan</td><td>12</td></tr><tr><td>Cyprus</td><td>United States</td><td>2</td></tr><tr><td>United States</td><td>Honduras</td><td>392</td></tr><tr><td>Fiji</td><td>United States</td><td>34</td></tr><tr><td>Qatar</td><td>United States</td><td>71</td></tr><tr><td>Saint Kitts and Nevis</td><td>United States</td><td>99</td></tr><tr><td>Kuwait</td><td>United States</td><td>24</td></tr><tr><td>Haiti</td><td>United States</td><td>199</td></tr><tr><td>Taiwan</td><td>United States</td><td>243</td></tr><tr><td>Canada</td><td>United States</td><td>7860</td></tr><tr><td>Federated States of Micronesia</td><td>United States</td><td>53</td></tr><tr><td>Jamaica</td><td>United States</td><td>581</td></tr><tr><td>Dominican Republic</td><td>United States</td><td>1068</td></tr><tr><td>Japan</td><td>United States</td><td>1613</td></tr><tr><td>United States</td><td>Saint Vincent and the Grenadines</td><td>10</td></tr><tr><td>Finland</td><td>United States</td><td>17</td></tr><tr><td>United States</td><td>Ukraine</td><td>4</td></tr><tr><td>United States</td><td>Guadeloupe</td><td>42</td></tr><tr><td>United States</td><td>France</td><td>848</td></tr><tr><td>United States</td><td>Norway</td><td>46</td></tr><tr><td>Aruba</td><td>United States</td><td>352</td></tr><tr><td>French Guiana</td><td>United States</td><td>7</td></tr><tr><td>United States</td><td>Kiribati</td><td>29</td></tr><tr><td>Zimbabwe</td><td>United States</td><td>2</td></tr><tr><td>India</td><td>United States</td><td>61</td></tr><tr><td>British Virgin Islands</td><td>United States</td><td>101</td></tr><tr><td>United States</td><td>Germany</td><td>1402</td></tr><tr><td>United States</td><td>New Zealand</td><td>77</td></tr><tr><td>Brazil</td><td>United States</td><td>912</td></tr><tr><td>Saint Helena, Ascension, and Tristan da Cunha</td><td>United States</td><td>1</td></tr><tr><td>United States</td><td>Cambodia</td><td>3</td></tr><tr><td>French Polynesia</td><td>United States</td><td>43</td></tr><tr><td>United Arab Emirates</td><td>United States</td><td>202</td></tr><tr><td>Singapore</td><td>United States</td><td>21</td></tr><tr><td>Tanzania</td><td>United States</td><td>2</td></tr><tr><td>United States</td><td>Mexico</td><td>6354</td></tr><tr><td>Netherlands</td><td>United States</td><td>640</td></tr><tr><td>United States</td><td>Sweden</td><td>73</td></tr><tr><td>United States</td><td>Martinique</td><td>24</td></tr><tr><td>United States</td><td>United Arab Emirates</td><td>187</td></tr><tr><td>Denmark</td><td>United States</td><td>104</td></tr><tr><td>China</td><td>United States</td><td>543</td></tr><tr><td>United States</td><td>Nicaragua</td><td>185</td></tr><tr><td>United States</td><td>Philippines</td><td>112</td></tr><tr><td>United States</td><td>Belgium</td><td>193</td></tr><tr><td>Nepal</td><td>United States</td><td>1</td></tr><tr><td>Libya</td><td>United States</td><td>1</td></tr><tr><td>Argentina</td><td>United States</td><td>176</td></tr><tr><td>Peru</td><td>United States</td><td>255</td></tr><tr><td>Cayman Islands</td><td>United States</td><td>274</td></tr><tr><td>South Africa</td><td>United States</td><td>24</td></tr><tr><td>United States</td><td>Iceland</td><td>151</td></tr><tr><td>United States</td><td>Argentina</td><td>140</td></tr><tr><td>Spain</td><td>United States</td><td>370</td></tr><tr><td>Bermuda</td><td>United States</td><td>163</td></tr><tr><td>United States</td><td>Nigeria</td><td>49</td></tr><tr><td>United States</td><td>Austria</td><td>39</td></tr><tr><td>United States</td><td>Bonaire, Sint Eustatius, and Saba</td><td>54</td></tr><tr><td>Kiribati</td><td>United States</td><td>29</td></tr><tr><td>Saudi Arabia</td><td>United States</td><td>86</td></tr><tr><td>Czech Republic</td><td>United States</td><td>10</td></tr><tr><td>Macau</td><td>United States</td><td>2</td></tr><tr><td>Belgium</td><td>United States</td><td>265</td></tr><tr><td>United States</td><td>Israel</td><td>107</td></tr><tr><td>United States</td><td>Saint Lucia</td><td>92</td></tr><tr><td>Sierra Leone</td><td>United States</td><td>1</td></tr><tr><td>United States</td><td>Bahrain</td><td>1</td></tr><tr><td>United States</td><td>British Virgin Islands</td><td>94</td></tr><tr><td>United States</td><td>Saint Helena, Ascension, and Tristan da Cunha</td><td>2</td></tr><tr><td>Curacao</td><td>United States</td><td>97</td></tr><tr><td>United States</td><td>Denmark</td><td>106</td></tr><tr><td>United States</td><td>Guyana</td><td>52</td></tr><tr><td>Philippines</td><td>United States</td><td>136</td></tr><tr><td>Grenada</td><td>United States</td><td>42</td></tr><tr><td>Cape Verde</td><td>United States</td><td>21</td></tr><tr><td>Ukraine</td><td>United States</td><td>4</td></tr><tr><td>Russia</td><td>United States</td><td>194</td></tr><tr><td>United States</td><td>Saudi Arabia</td><td>84</td></tr><tr><td>Guatemala</td><td>United States</td><td>376</td></tr><tr><td>Saint Lucia</td><td>United States</td><td>91</td></tr><tr><td>Paraguay</td><td>United States</td><td>75</td></tr><tr><td>United States</td><td>Curacao</td><td>89</td></tr><tr><td>United States</td><td>Taiwan</td><td>235</td></tr><tr><td>United States</td><td>South Africa</td><td>26</td></tr><tr><td>Niger</td><td>United States</td><td>1</td></tr><tr><td>Turkey</td><td>United States</td><td>99</td></tr><tr><td>United Kingdom</td><td>United States</td><td>1802</td></tr><tr><td>Romania</td><td>United States</td><td>14</td></tr><tr><td>United States</td><td>Greenland</td><td>3</td></tr><tr><td>Papua New Guinea</td><td>United States</td><td>2</td></tr><tr><td>United States</td><td>Spain</td><td>377</td></tr><tr><td>United States</td><td>Italy</td><td>333</td></tr><tr><td>Cuba</td><td>United States</td><td>337</td></tr><tr><td>United States</td><td>Switzerland</td><td>285</td></tr><tr><td>Dominica</td><td>United States</td><td>19</td></tr><tr><td>Portugal</td><td>United States</td><td>116</td></tr><tr><td>United States</td><td>Japan</td><td>1476</td></tr><tr><td>United States</td><td>Brazil</td><td>510</td></tr><tr><td>Bahrain</td><td>United States</td><td>50</td></tr><tr><td>United States</td><td>Peru</td><td>300</td></tr><tr><td>Indonesia</td><td>United States</td><td>1</td></tr><tr><td>United States</td><td>United Kingdom</td><td>1711</td></tr><tr><td>United States</td><td>Belize</td><td>127</td></tr><tr><td>Belize</td><td>United States</td><td>137</td></tr><tr><td>Kenya</td><td>United States</td><td>1</td></tr><tr><td>United States</td><td>Ghana</td><td>16</td></tr><tr><td>United States</td><td>Fiji</td><td>30</td></tr><tr><td>United States</td><td>Canada</td><td>7983</td></tr><tr><td>United States</td><td>French Polynesia</td><td>40</td></tr><tr><td>United States</td><td>Antigua and Barbuda</td><td>123</td></tr><tr><td>Brunei</td><td>United States</td><td>1</td></tr><tr><td>Nicaragua</td><td>United States</td><td>178</td></tr><tr><td>United States</td><td>Latvia</td><td>12</td></tr><tr><td>United States</td><td>Dominica</td><td>25</td></tr><tr><td>United States</td><td>Czech Republic</td><td>9</td></tr><tr><td>United States</td><td>Cook Islands</td><td>12</td></tr><tr><td>Austria</td><td>United States</td><td>35</td></tr><tr><td>United States</td><td>Australia</td><td>222</td></tr><tr><td>Jordan</td><td>United States</td><td>74</td></tr><tr><td>Palau</td><td>United States</td><td>35</td></tr><tr><td>South Korea</td><td>United States</td><td>842</td></tr><tr><td>Angola</td><td>United States</td><td>12</td></tr><tr><td>Ghana</td><td>United States</td><td>16</td></tr><tr><td>New Caledonia</td><td>United States</td><td>1</td></tr><tr><td>Guadeloupe</td><td>United States</td><td>41</td></tr><tr><td>France</td><td>United States</td><td>837</td></tr><tr><td>Poland</td><td>United States</td><td>40</td></tr><tr><td>Nigeria</td><td>United States</td><td>58</td></tr><tr><td>United States</td><td>Uruguay</td><td>20</td></tr><tr><td>Greenland</td><td>United States</td><td>1</td></tr><tr><td>Chile</td><td>United States</td><td>147</td></tr><tr><td>United States</td><td>Bermuda</td><td>166</td></tr><tr><td>Lebanon</td><td>United States</td><td>1</td></tr><tr><td>United States</td><td>Cuba</td><td>336</td></tr><tr><td>United States</td><td>Colombia</td><td>811</td></tr><tr><td>United States</td><td>Qatar</td><td>72</td></tr><tr><td>United States</td><td>Barbados</td><td>78</td></tr><tr><td>Australia</td><td>United States</td><td>295</td></tr><tr><td>United States</td><td>Cayman Islands</td><td>274</td></tr><tr><td>United States</td><td>Jordan</td><td>77</td></tr><tr><td>United States</td><td>Trinidad and Tobago</td><td>184</td></tr><tr><td>United States</td><td>Bolivia</td><td>13</td></tr><tr><td>Uruguay</td><td>United States</td><td>57</td></tr><tr><td>Cook Islands</td><td>United States</td><td>12</td></tr><tr><td>United States</td><td>Saint Kitts and Nevis</td><td>115</td></tr><tr><td>United States</td><td>French Guiana</td><td>3</td></tr><tr><td>United States</td><td>Haiti</td><td>186</td></tr><tr><td>Bonaire, Sint Eustatius, and Saba</td><td>United States</td><td>53</td></tr><tr><td>Greece</td><td>United States</td><td>12</td></tr></tbody></table></div>"
      ]
     },
     "metadata": {
      "application/vnd.databricks.v1+output": {
       "addedWidgets": {},
       "aggData": [],
       "aggError": "",
       "aggOverflow": false,
       "aggSchema": [],
       "aggSeriesLimitReached": false,
       "aggType": "",
       "arguments": {},
       "columnCustomDisplayInfos": {},
       "data": [
        [
         "United States",
         "Romania",
         12
        ],
        [
         "United States",
         "Croatia",
         1
        ],
        [
         "United States",
         "Ireland",
         266
        ],
        [
         "Egypt",
         "United States",
         13
        ],
        [
         "United States",
         "India",
         60
        ],
        [
         "Equatorial Guinea",
         "United States",
         1
        ],
        [
         "United States",
         "Niger",
         1
        ],
        [
         "United States",
         "Singapore",
         22
        ],
        [
         "United States",
         "Grenada",
         40
        ],
        [
         "Costa Rica",
         "United States",
         509
        ],
        [
         "Senegal",
         "United States",
         28
        ],
        [
         "Guyana",
         "United States",
         34
        ],
        [
         "United States",
         "Sint Maarten",
         260
        ],
        [
         "United States",
         "Marshall Islands",
         33
        ],
        [
         "Bolivia",
         "United States",
         33
        ],
        [
         "Anguilla",
         "United States",
         22
        ],
        [
         "United States",
         "Paraguay",
         15
        ],
        [
         "Algeria",
         "United States",
         2
        ],
        [
         "Turks and Caicos Islands",
         "United States",
         181
        ],
        [
         "Saint Vincent and the Grenadines",
         "United States",
         4
        ],
        [
         "Lithuania",
         "United States",
         1
        ],
        [
         "Pakistan",
         "United States",
         14
        ],
        [
         "Italy",
         "United States",
         327
        ],
        [
         "United States",
         "Russia",
         167
        ],
        [
         "United States",
         "Federated States of Micronesia",
         62
        ],
        [
         "United States",
         "Netherlands",
         618
        ],
        [
         "Iceland",
         "United States",
         146
        ],
        [
         "Marshall Islands",
         "United States",
         50
        ],
        [
         "Luxembourg",
         "United States",
         160
        ],
        [
         "Honduras",
         "United States",
         423
        ],
        [
         "Rwanda",
         "United States",
         1
        ],
        [
         "The Bahamas",
         "United States",
         865
        ],
        [
         "El Salvador",
         "United States",
         551
        ],
        [
         "United States",
         "Senegal",
         32
        ],
        [
         "Samoa",
         "United States",
         25
        ],
        [
         "United States",
         "Angola",
         12
        ],
        [
         "Kazakhstan",
         "United States",
         2
        ],
        [
         "Switzerland",
         "United States",
         288
        ],
        [
         "United States",
         "Anguilla",
         18
        ],
        [
         "United States",
         "Mali",
         1
        ],
        [
         "Sint Maarten",
         "United States",
         271
        ],
        [
         "Hong Kong",
         "United States",
         282
        ],
        [
         "Trinidad and Tobago",
         "United States",
         183
        ],
        [
         "Latvia",
         "United States",
         29
        ],
        [
         "United States",
         "Ecuador",
         307
        ],
        [
         "Suriname",
         "United States",
         15
        ],
        [
         "Mexico",
         "United States",
         6372
        ],
        [
         "Ecuador",
         "United States",
         252
        ],
        [
         "United States",
         "Portugal",
         126
        ],
        [
         "United States",
         "Costa Rica",
         549
        ],
        [
         "United States",
         "Guatemala",
         331
        ],
        [
         "United States",
         "Suriname",
         21
        ],
        [
         "Colombia",
         "United States",
         798
        ],
        [
         "United States",
         "Cape Verde",
         15
        ],
        [
         "Norway",
         "United States",
         48
        ],
        [
         "United States",
         "Jamaica",
         599
        ],
        [
         "United States",
         "Malaysia",
         1
        ],
        [
         "United States",
         "Morocco",
         16
        ],
        [
         "Thailand",
         "United States",
         2
        ],
        [
         "Burundi",
         "United States",
         1
        ],
        [
         "Venezuela",
         "United States",
         350
        ],
        [
         "United States",
         "Samoa",
         25
        ],
        [
         "United States",
         "Palau",
         35
        ],
        [
         "United States",
         "Venezuela",
         295
        ],
        [
         "Panama",
         "United States",
         418
        ],
        [
         "United States",
         "Finland",
         15
        ],
        [
         "Morocco",
         "United States",
         18
        ],
        [
         "Antigua and Barbuda",
         "United States",
         123
        ],
        [
         "United States",
         "Chile",
         171
        ],
        [
         "Azerbaijan",
         "United States",
         3
        ],
        [
         "United States",
         "Greece",
         14
        ],
        [
         "United States",
         "The Bahamas",
         897
        ],
        [
         "New Zealand",
         "United States",
         114
        ],
        [
         "United States",
         "Hong Kong",
         344
        ],
        [
         "Hungary",
         "United States",
         1
        ],
        [
         "United States",
         "China",
         614
        ],
        [
         "United States",
         "Kuwait",
         24
        ],
        [
         "Sweden",
         "United States",
         70
        ],
        [
         "United States",
         "Egypt",
         12
        ],
        [
         "United States",
         "Dominican Republic",
         1119
        ],
        [
         "Israel",
         "United States",
         119
        ],
        [
         "United States",
         "United States",
         343132
        ],
        [
         "United States",
         "Luxembourg",
         134
        ],
        [
         "Ethiopia",
         "United States",
         12
        ],
        [
         "United States",
         "Poland",
         37
        ],
        [
         "Martinique",
         "United States",
         26
        ],
        [
         "United States",
         "Zimbabwe",
         2
        ],
        [
         "United States",
         "Saint Barthelemy",
         58
        ],
        [
         "Saint Barthelemy",
         "United States",
         67
        ],
        [
         "United States",
         "Turkey",
         100
        ],
        [
         "Barbados",
         "United States",
         97
        ],
        [
         "Germany",
         "United States",
         1423
        ],
        [
         "Kyrgyzstan",
         "United States",
         1
        ],
        [
         "United States",
         "South Korea",
         687
        ],
        [
         "United States",
         "El Salvador",
         466
        ],
        [
         "Ireland",
         "United States",
         255
        ],
        [
         "Malaysia",
         "United States",
         2
        ],
        [
         "United States",
         "Aruba",
         344
        ],
        [
         "United States",
         "Panama",
         419
        ],
        [
         "United States",
         "Ethiopia",
         12
        ],
        [
         "United States",
         "Turks and Caicos Islands",
         178
        ],
        [
         "United States",
         "Pakistan",
         12
        ],
        [
         "Cyprus",
         "United States",
         2
        ],
        [
         "United States",
         "Honduras",
         392
        ],
        [
         "Fiji",
         "United States",
         34
        ],
        [
         "Qatar",
         "United States",
         71
        ],
        [
         "Saint Kitts and Nevis",
         "United States",
         99
        ],
        [
         "Kuwait",
         "United States",
         24
        ],
        [
         "Haiti",
         "United States",
         199
        ],
        [
         "Taiwan",
         "United States",
         243
        ],
        [
         "Canada",
         "United States",
         7860
        ],
        [
         "Federated States of Micronesia",
         "United States",
         53
        ],
        [
         "Jamaica",
         "United States",
         581
        ],
        [
         "Dominican Republic",
         "United States",
         1068
        ],
        [
         "Japan",
         "United States",
         1613
        ],
        [
         "United States",
         "Saint Vincent and the Grenadines",
         10
        ],
        [
         "Finland",
         "United States",
         17
        ],
        [
         "United States",
         "Ukraine",
         4
        ],
        [
         "United States",
         "Guadeloupe",
         42
        ],
        [
         "United States",
         "France",
         848
        ],
        [
         "United States",
         "Norway",
         46
        ],
        [
         "Aruba",
         "United States",
         352
        ],
        [
         "French Guiana",
         "United States",
         7
        ],
        [
         "United States",
         "Kiribati",
         29
        ],
        [
         "Zimbabwe",
         "United States",
         2
        ],
        [
         "India",
         "United States",
         61
        ],
        [
         "British Virgin Islands",
         "United States",
         101
        ],
        [
         "United States",
         "Germany",
         1402
        ],
        [
         "United States",
         "New Zealand",
         77
        ],
        [
         "Brazil",
         "United States",
         912
        ],
        [
         "Saint Helena, Ascension, and Tristan da Cunha",
         "United States",
         1
        ],
        [
         "United States",
         "Cambodia",
         3
        ],
        [
         "French Polynesia",
         "United States",
         43
        ],
        [
         "United Arab Emirates",
         "United States",
         202
        ],
        [
         "Singapore",
         "United States",
         21
        ],
        [
         "Tanzania",
         "United States",
         2
        ],
        [
         "United States",
         "Mexico",
         6354
        ],
        [
         "Netherlands",
         "United States",
         640
        ],
        [
         "United States",
         "Sweden",
         73
        ],
        [
         "United States",
         "Martinique",
         24
        ],
        [
         "United States",
         "United Arab Emirates",
         187
        ],
        [
         "Denmark",
         "United States",
         104
        ],
        [
         "China",
         "United States",
         543
        ],
        [
         "United States",
         "Nicaragua",
         185
        ],
        [
         "United States",
         "Philippines",
         112
        ],
        [
         "United States",
         "Belgium",
         193
        ],
        [
         "Nepal",
         "United States",
         1
        ],
        [
         "Libya",
         "United States",
         1
        ],
        [
         "Argentina",
         "United States",
         176
        ],
        [
         "Peru",
         "United States",
         255
        ],
        [
         "Cayman Islands",
         "United States",
         274
        ],
        [
         "South Africa",
         "United States",
         24
        ],
        [
         "United States",
         "Iceland",
         151
        ],
        [
         "United States",
         "Argentina",
         140
        ],
        [
         "Spain",
         "United States",
         370
        ],
        [
         "Bermuda",
         "United States",
         163
        ],
        [
         "United States",
         "Nigeria",
         49
        ],
        [
         "United States",
         "Austria",
         39
        ],
        [
         "United States",
         "Bonaire, Sint Eustatius, and Saba",
         54
        ],
        [
         "Kiribati",
         "United States",
         29
        ],
        [
         "Saudi Arabia",
         "United States",
         86
        ],
        [
         "Czech Republic",
         "United States",
         10
        ],
        [
         "Macau",
         "United States",
         2
        ],
        [
         "Belgium",
         "United States",
         265
        ],
        [
         "United States",
         "Israel",
         107
        ],
        [
         "United States",
         "Saint Lucia",
         92
        ],
        [
         "Sierra Leone",
         "United States",
         1
        ],
        [
         "United States",
         "Bahrain",
         1
        ],
        [
         "United States",
         "British Virgin Islands",
         94
        ],
        [
         "United States",
         "Saint Helena, Ascension, and Tristan da Cunha",
         2
        ],
        [
         "Curacao",
         "United States",
         97
        ],
        [
         "United States",
         "Denmark",
         106
        ],
        [
         "United States",
         "Guyana",
         52
        ],
        [
         "Philippines",
         "United States",
         136
        ],
        [
         "Grenada",
         "United States",
         42
        ],
        [
         "Cape Verde",
         "United States",
         21
        ],
        [
         "Ukraine",
         "United States",
         4
        ],
        [
         "Russia",
         "United States",
         194
        ],
        [
         "United States",
         "Saudi Arabia",
         84
        ],
        [
         "Guatemala",
         "United States",
         376
        ],
        [
         "Saint Lucia",
         "United States",
         91
        ],
        [
         "Paraguay",
         "United States",
         75
        ],
        [
         "United States",
         "Curacao",
         89
        ],
        [
         "United States",
         "Taiwan",
         235
        ],
        [
         "United States",
         "South Africa",
         26
        ],
        [
         "Niger",
         "United States",
         1
        ],
        [
         "Turkey",
         "United States",
         99
        ],
        [
         "United Kingdom",
         "United States",
         1802
        ],
        [
         "Romania",
         "United States",
         14
        ],
        [
         "United States",
         "Greenland",
         3
        ],
        [
         "Papua New Guinea",
         "United States",
         2
        ],
        [
         "United States",
         "Spain",
         377
        ],
        [
         "United States",
         "Italy",
         333
        ],
        [
         "Cuba",
         "United States",
         337
        ],
        [
         "United States",
         "Switzerland",
         285
        ],
        [
         "Dominica",
         "United States",
         19
        ],
        [
         "Portugal",
         "United States",
         116
        ],
        [
         "United States",
         "Japan",
         1476
        ],
        [
         "United States",
         "Brazil",
         510
        ],
        [
         "Bahrain",
         "United States",
         50
        ],
        [
         "United States",
         "Peru",
         300
        ],
        [
         "Indonesia",
         "United States",
         1
        ],
        [
         "United States",
         "United Kingdom",
         1711
        ],
        [
         "United States",
         "Belize",
         127
        ],
        [
         "Belize",
         "United States",
         137
        ],
        [
         "Kenya",
         "United States",
         1
        ],
        [
         "United States",
         "Ghana",
         16
        ],
        [
         "United States",
         "Fiji",
         30
        ],
        [
         "United States",
         "Canada",
         7983
        ],
        [
         "United States",
         "French Polynesia",
         40
        ],
        [
         "United States",
         "Antigua and Barbuda",
         123
        ],
        [
         "Brunei",
         "United States",
         1
        ],
        [
         "Nicaragua",
         "United States",
         178
        ],
        [
         "United States",
         "Latvia",
         12
        ],
        [
         "United States",
         "Dominica",
         25
        ],
        [
         "United States",
         "Czech Republic",
         9
        ],
        [
         "United States",
         "Cook Islands",
         12
        ],
        [
         "Austria",
         "United States",
         35
        ],
        [
         "United States",
         "Australia",
         222
        ],
        [
         "Jordan",
         "United States",
         74
        ],
        [
         "Palau",
         "United States",
         35
        ],
        [
         "South Korea",
         "United States",
         842
        ],
        [
         "Angola",
         "United States",
         12
        ],
        [
         "Ghana",
         "United States",
         16
        ],
        [
         "New Caledonia",
         "United States",
         1
        ],
        [
         "Guadeloupe",
         "United States",
         41
        ],
        [
         "France",
         "United States",
         837
        ],
        [
         "Poland",
         "United States",
         40
        ],
        [
         "Nigeria",
         "United States",
         58
        ],
        [
         "United States",
         "Uruguay",
         20
        ],
        [
         "Greenland",
         "United States",
         1
        ],
        [
         "Chile",
         "United States",
         147
        ],
        [
         "United States",
         "Bermuda",
         166
        ],
        [
         "Lebanon",
         "United States",
         1
        ],
        [
         "United States",
         "Cuba",
         336
        ],
        [
         "United States",
         "Colombia",
         811
        ],
        [
         "United States",
         "Qatar",
         72
        ],
        [
         "United States",
         "Barbados",
         78
        ],
        [
         "Australia",
         "United States",
         295
        ],
        [
         "United States",
         "Cayman Islands",
         274
        ],
        [
         "United States",
         "Jordan",
         77
        ],
        [
         "United States",
         "Trinidad and Tobago",
         184
        ],
        [
         "United States",
         "Bolivia",
         13
        ],
        [
         "Uruguay",
         "United States",
         57
        ],
        [
         "Cook Islands",
         "United States",
         12
        ],
        [
         "United States",
         "Saint Kitts and Nevis",
         115
        ],
        [
         "United States",
         "French Guiana",
         3
        ],
        [
         "United States",
         "Haiti",
         186
        ],
        [
         "Bonaire, Sint Eustatius, and Saba",
         "United States",
         53
        ],
        [
         "Greece",
         "United States",
         12
        ]
       ],
       "datasetInfos": [],
       "dbfsResultPath": null,
       "isJsonSchema": true,
       "metadata": {},
       "overflow": false,
       "plotOptions": {
        "customPlotOptions": {},
        "displayType": "table",
        "pivotAggregation": null,
        "pivotColumns": null,
        "xColumns": null,
        "yColumns": null
       },
       "removedWidgets": [],
       "schema": [
        {
         "metadata": "{}",
         "name": "DEST_COUNTRY_NAME",
         "type": "\"string\""
        },
        {
         "metadata": "{}",
         "name": "ORIGIN_COUNTRY_NAME",
         "type": "\"string\""
        },
        {
         "metadata": "{}",
         "name": "count",
         "type": "\"integer\""
        }
       ],
       "type": "table"
      }
     },
     "output_type": "display_data"
    }
   ],
   "source": [
    "df_flights.display()"
   ]
  },
  {
   "cell_type": "code",
   "execution_count": 0,
   "metadata": {
    "application/vnd.databricks.v1+cell": {
     "cellMetadata": {
      "byteLimit": 2048000,
      "rowLimit": 10000
     },
     "inputWidgets": {},
     "nuid": "e6f9e715-dbb6-4d7b-87f5-de43d040a6a7",
     "showTitle": false,
     "tableResultSettingsMap": {},
     "title": ""
    }
   },
   "outputs": [
    {
     "output_type": "stream",
     "name": "stdout",
     "output_type": "stream",
     "text": [
      "+----------+\n|sum(count)|\n+----------+\n|       126|\n+----------+\n\n"
     ]
    }
   ],
   "source": [
    "df_flights.filter(col('ORIGIN_COUNTRY_NAME') == 'Portugal').select(sum(col('count'))).show()"
   ]
  },
  {
   "cell_type": "code",
   "execution_count": 0,
   "metadata": {
    "application/vnd.databricks.v1+cell": {
     "cellMetadata": {},
     "inputWidgets": {},
     "nuid": "9ad54a23-6a03-4b0a-8ace-00c54e7fe08f",
     "showTitle": false,
     "tableResultSettingsMap": {},
     "title": ""
    }
   },
   "outputs": [],
   "source": []
  },
  {
   "cell_type": "markdown",
   "metadata": {
    "application/vnd.databricks.v1+cell": {
     "cellMetadata": {},
     "inputWidgets": {},
     "nuid": "68323215-4693-41f0-b71e-1385be65f4c5",
     "showTitle": false,
     "tableResultSettingsMap": {},
     "title": ""
    }
   },
   "source": [
    "2"
   ]
  },
  {
   "cell_type": "code",
   "execution_count": 0,
   "metadata": {
    "application/vnd.databricks.v1+cell": {
     "cellMetadata": {
      "byteLimit": 2048000,
      "rowLimit": 10000
     },
     "inputWidgets": {},
     "nuid": "09e9e79b-a36d-44b5-9816-6e41cdac61db",
     "showTitle": false,
     "tableResultSettingsMap": {},
     "title": ""
    }
   },
   "outputs": [
    {
     "output_type": "stream",
     "name": "stdout",
     "output_type": "stream",
     "text": [
      "Out[14]: 250"
     ]
    }
   ],
   "source": [
    "df_flights.count()"
   ]
  },
  {
   "cell_type": "markdown",
   "metadata": {
    "application/vnd.databricks.v1+cell": {
     "cellMetadata": {},
     "inputWidgets": {},
     "nuid": "e3f69660-f67d-4381-8ff1-82b99afa2e67",
     "showTitle": false,
     "tableResultSettingsMap": {},
     "title": ""
    }
   },
   "source": [
    "3"
   ]
  },
  {
   "cell_type": "code",
   "execution_count": 0,
   "metadata": {
    "application/vnd.databricks.v1+cell": {
     "cellMetadata": {
      "byteLimit": 2048000,
      "rowLimit": 10000
     },
     "inputWidgets": {},
     "nuid": "60548576-74df-46e7-9928-cb1896855b1b",
     "showTitle": false,
     "tableResultSettingsMap": {},
     "title": ""
    }
   },
   "outputs": [],
   "source": [
    "df_24 = spark.read.option(\"delimiter\", \";\").option(\"header\", True).option(\"inferSchema\", \"true\").csv('dbfs:/FileStore/tables/Test_Data_24.csv')"
   ]
  },
  {
   "cell_type": "code",
   "execution_count": 0,
   "metadata": {
    "application/vnd.databricks.v1+cell": {
     "cellMetadata": {
      "byteLimit": 2048000,
      "rowLimit": 10000
     },
     "inputWidgets": {},
     "nuid": "23c59e7e-61d4-4349-93da-694bbb98a188",
     "showTitle": false,
     "tableResultSettingsMap": {},
     "title": ""
    }
   },
   "outputs": [
    {
     "output_type": "stream",
     "name": "stdout",
     "output_type": "stream",
     "text": [
      "+----------------------+\n|((CN01 * CN02) * CN03)|\n+----------------------+\n|               3462144|\n+----------------------+\n\n"
     ]
    }
   ],
   "source": [
    "df_24.filter(col(\"id\") == 50).select(col(\"CN01\") * col(\"CN02\")* col(\"CN03\")).show()"
   ]
  },
  {
   "cell_type": "markdown",
   "metadata": {
    "application/vnd.databricks.v1+cell": {
     "cellMetadata": {},
     "inputWidgets": {},
     "nuid": "67ecf6d8-3458-4f49-8e9f-78528ccbdcf7",
     "showTitle": false,
     "tableResultSettingsMap": {},
     "title": ""
    }
   },
   "source": [
    "4"
   ]
  },
  {
   "cell_type": "code",
   "execution_count": 0,
   "metadata": {
    "application/vnd.databricks.v1+cell": {
     "cellMetadata": {
      "byteLimit": 2048000,
      "rowLimit": 10000
     },
     "inputWidgets": {},
     "nuid": "50c995fe-d8e6-48dd-9bb8-5b8451b1e52b",
     "showTitle": false,
     "tableResultSettingsMap": {},
     "title": ""
    }
   },
   "outputs": [],
   "source": [
    "df_alice = spark.read.text('dbfs:/FileStore/tables/alice_in_wonderland.txt')"
   ]
  },
  {
   "cell_type": "code",
   "execution_count": 0,
   "metadata": {
    "application/vnd.databricks.v1+cell": {
     "cellMetadata": {
      "byteLimit": 2048000,
      "rowLimit": 10000
     },
     "inputWidgets": {},
     "nuid": "6e7fb1ea-7e95-4dec-9e51-eeff14c7101e",
     "showTitle": false,
     "tableResultSettingsMap": {},
     "title": ""
    }
   },
   "outputs": [
    {
     "output_type": "stream",
     "name": "stdout",
     "output_type": "stream",
     "text": [
      "2720\n3584\n"
     ]
    }
   ],
   "source": [
    "print(df_alice.count())\n",
    "print(alice_text.count())"
   ]
  },
  {
   "cell_type": "code",
   "execution_count": 0,
   "metadata": {
    "application/vnd.databricks.v1+cell": {
     "cellMetadata": {
      "byteLimit": 2048000,
      "rowLimit": 10000
     },
     "inputWidgets": {},
     "nuid": "343c291b-79b6-449e-b063-064c9c01cb79",
     "showTitle": false,
     "tableResultSettingsMap": {},
     "title": ""
    }
   },
   "outputs": [
    {
     "output_type": "stream",
     "name": "stdout",
     "output_type": "stream",
     "text": [
      "Out[113]: ['value']"
     ]
    }
   ],
   "source": [
    "df_alice.columns"
   ]
  },
  {
   "cell_type": "code",
   "execution_count": 0,
   "metadata": {
    "application/vnd.databricks.v1+cell": {
     "cellMetadata": {
      "byteLimit": 2048000,
      "rowLimit": 10000
     },
     "inputWidgets": {},
     "nuid": "4009eef6-ff53-4ee6-b089-ccd91d184fea",
     "showTitle": false,
     "tableResultSettingsMap": {},
     "title": ""
    }
   },
   "outputs": [],
   "source": [
    "fileTextCleaned = df_alice.select(translate(col(\"value\"), \".`(),!\\\":'-\", \" \").alias(\"text\"))\n"
   ]
  },
  {
   "cell_type": "code",
   "execution_count": 0,
   "metadata": {
    "application/vnd.databricks.v1+cell": {
     "cellMetadata": {
      "byteLimit": 2048000,
      "rowLimit": 10000
     },
     "inputWidgets": {},
     "nuid": "57f953d5-5c39-41b9-8aae-2f4822559094",
     "showTitle": false,
     "tableResultSettingsMap": {},
     "title": ""
    }
   },
   "outputs": [],
   "source": [
    "alice_count = fileTextCleaned.select(split('text',' ').alias('word')) \\\n",
    "  .select(explode(col('word')).alias('word')) \\\n",
    "  .groupBy(col('word')).count()\n"
   ]
  },
  {
   "cell_type": "code",
   "execution_count": 0,
   "metadata": {
    "application/vnd.databricks.v1+cell": {
     "cellMetadata": {
      "byteLimit": 2048000,
      "rowLimit": 10000
     },
     "inputWidgets": {},
     "nuid": "12b9bde1-d7d8-4f1a-aa3f-130a234aee3d",
     "showTitle": false,
     "tableResultSettingsMap": {},
     "title": ""
    }
   },
   "outputs": [
    {
     "output_type": "display_data",
     "data": {
      "text/html": [
       "<style scoped>\n",
       "  .table-result-container {\n",
       "    max-height: 300px;\n",
       "    overflow: auto;\n",
       "  }\n",
       "  table, th, td {\n",
       "    border: 1px solid black;\n",
       "    border-collapse: collapse;\n",
       "  }\n",
       "  th, td {\n",
       "    padding: 5px;\n",
       "  }\n",
       "  th {\n",
       "    text-align: left;\n",
       "  }\n",
       "</style><div class='table-result-container'><table class='table-result'><thead style='background-color: white'><tr><th>word</th><th>count</th></tr></thead><tbody><tr><td>Theyre</td><td>3</td></tr><tr><td>Theres</td><td>8</td></tr><tr><td>These</td><td>2</td></tr><tr><td>There</td><td>25</td></tr><tr><td>isThe</td><td>1</td></tr><tr><td>The</td><td>107</td></tr><tr><td>Their</td><td>1</td></tr><tr><td>Then</td><td>21</td></tr><tr><td>Therefore</td><td>1</td></tr><tr><td>They</td><td>18</td></tr></tbody></table></div>"
      ]
     },
     "metadata": {
      "application/vnd.databricks.v1+output": {
       "addedWidgets": {},
       "aggData": [],
       "aggError": "",
       "aggOverflow": false,
       "aggSchema": [],
       "aggSeriesLimitReached": false,
       "aggType": "",
       "arguments": {},
       "columnCustomDisplayInfos": {},
       "data": [
        [
         "Theyre",
         3
        ],
        [
         "Theres",
         8
        ],
        [
         "These",
         2
        ],
        [
         "There",
         25
        ],
        [
         "isThe",
         1
        ],
        [
         "The",
         107
        ],
        [
         "Their",
         1
        ],
        [
         "Then",
         21
        ],
        [
         "Therefore",
         1
        ],
        [
         "They",
         18
        ]
       ],
       "datasetInfos": [],
       "dbfsResultPath": null,
       "isJsonSchema": true,
       "metadata": {},
       "overflow": false,
       "plotOptions": {
        "customPlotOptions": {},
        "displayType": "table",
        "pivotAggregation": null,
        "pivotColumns": null,
        "xColumns": null,
        "yColumns": null
       },
       "removedWidgets": [],
       "schema": [
        {
         "metadata": "{}",
         "name": "word",
         "type": "\"string\""
        },
        {
         "metadata": "{}",
         "name": "count",
         "type": "\"long\""
        }
       ],
       "type": "table"
      }
     },
     "output_type": "display_data"
    }
   ],
   "source": [
    "alice_count.filter(col(\"word\").like(\"%The%\")).display()"
   ]
  },
  {
   "cell_type": "markdown",
   "metadata": {
    "application/vnd.databricks.v1+cell": {
     "cellMetadata": {},
     "inputWidgets": {},
     "nuid": "9ad9746b-1c5f-4433-b797-a03d7e6204f9",
     "showTitle": false,
     "tableResultSettingsMap": {},
     "title": ""
    }
   },
   "source": [
    "5"
   ]
  },
  {
   "cell_type": "code",
   "execution_count": 0,
   "metadata": {
    "application/vnd.databricks.v1+cell": {
     "cellMetadata": {
      "byteLimit": 2048000,
      "rowLimit": 10000
     },
     "inputWidgets": {},
     "nuid": "31568a55-23e9-4711-aa24-d477d0876d91",
     "showTitle": false,
     "tableResultSettingsMap": {},
     "title": ""
    }
   },
   "outputs": [
    {
     "output_type": "display_data",
     "data": {
      "text/html": [
       "<style scoped>\n",
       "  .table-result-container {\n",
       "    max-height: 300px;\n",
       "    overflow: auto;\n",
       "  }\n",
       "  table, th, td {\n",
       "    border: 1px solid black;\n",
       "    border-collapse: collapse;\n",
       "  }\n",
       "  th, td {\n",
       "    padding: 5px;\n",
       "  }\n",
       "  th {\n",
       "    text-align: left;\n",
       "  }\n",
       "</style><div class='table-result-container'><table class='table-result'><thead style='background-color: white'><tr><th>date</th><th>test</th></tr></thead><tbody><tr><td>2023-02-16</td><td>199</td></tr><tr><td>2023-02-01</td><td>199</td></tr><tr><td>2021-01-02</td><td>199</td></tr><tr><td>2020-04-06</td><td>198</td></tr><tr><td>2021-04-08</td><td>198</td></tr><tr><td>2022-01-30</td><td>198</td></tr><tr><td>2023-01-13</td><td>198</td></tr><tr><td>2023-02-28</td><td>198</td></tr><tr><td>2024-04-09</td><td>198</td></tr><tr><td>2023-03-12</td><td>197</td></tr><tr><td>2023-04-09</td><td>197</td></tr><tr><td>2024-03-23</td><td>197</td></tr><tr><td>2021-02-25</td><td>197</td></tr><tr><td>2024-02-13</td><td>197</td></tr><tr><td>2023-01-29</td><td>197</td></tr><tr><td>2023-03-07</td><td>197</td></tr><tr><td>2022-02-24</td><td>197</td></tr><tr><td>2022-04-06</td><td>196</td></tr><tr><td>2024-03-21</td><td>196</td></tr><tr><td>2020-03-26</td><td>196</td></tr><tr><td>2024-03-22</td><td>196</td></tr><tr><td>2021-01-17</td><td>196</td></tr><tr><td>2022-01-29</td><td>195</td></tr><tr><td>2023-01-12</td><td>195</td></tr><tr><td>2023-02-22</td><td>195</td></tr><tr><td>2023-04-08</td><td>195</td></tr><tr><td>2020-04-04</td><td>195</td></tr><tr><td>2020-03-23</td><td>195</td></tr><tr><td>2024-03-25</td><td>195</td></tr><tr><td>2024-03-27</td><td>194</td></tr><tr><td>2021-03-25</td><td>194</td></tr><tr><td>2024-04-10</td><td>194</td></tr><tr><td>2022-02-18</td><td>194</td></tr><tr><td>2023-02-20</td><td>194</td></tr><tr><td>2023-03-13</td><td>193</td></tr><tr><td>2022-03-03</td><td>193</td></tr><tr><td>2024-01-01</td><td>193</td></tr><tr><td>2023-02-25</td><td>192</td></tr><tr><td>2022-03-15</td><td>192</td></tr><tr><td>2021-03-10</td><td>192</td></tr><tr><td>2022-02-27</td><td>192</td></tr><tr><td>2021-03-15</td><td>191</td></tr><tr><td>2022-02-19</td><td>191</td></tr><tr><td>2021-03-18</td><td>191</td></tr><tr><td>2022-04-07</td><td>191</td></tr><tr><td>2024-02-18</td><td>191</td></tr><tr><td>2022-03-17</td><td>191</td></tr><tr><td>2023-03-10</td><td>191</td></tr><tr><td>2021-02-13</td><td>191</td></tr><tr><td>2021-01-14</td><td>191</td></tr><tr><td>2022-03-22</td><td>190</td></tr><tr><td>2024-02-19</td><td>190</td></tr><tr><td>2021-04-06</td><td>190</td></tr><tr><td>2021-01-30</td><td>190</td></tr><tr><td>2023-02-27</td><td>190</td></tr><tr><td>2023-01-24</td><td>190</td></tr><tr><td>2022-02-17</td><td>190</td></tr><tr><td>2020-01-08</td><td>190</td></tr><tr><td>2023-03-22</td><td>190</td></tr><tr><td>2021-01-18</td><td>189</td></tr><tr><td>2024-01-12</td><td>189</td></tr><tr><td>2022-03-13</td><td>189</td></tr><tr><td>2023-01-18</td><td>189</td></tr><tr><td>2023-01-19</td><td>189</td></tr><tr><td>2021-03-09</td><td>188</td></tr><tr><td>2021-02-15</td><td>187</td></tr><tr><td>2024-01-14</td><td>187</td></tr><tr><td>2022-03-07</td><td>187</td></tr><tr><td>2024-01-31</td><td>187</td></tr><tr><td>2023-01-06</td><td>187</td></tr><tr><td>2020-02-14</td><td>187</td></tr><tr><td>2020-02-28</td><td>187</td></tr><tr><td>2021-01-25</td><td>186</td></tr><tr><td>2021-02-10</td><td>186</td></tr><tr><td>2021-01-19</td><td>186</td></tr><tr><td>2024-02-03</td><td>186</td></tr><tr><td>2023-03-30</td><td>186</td></tr><tr><td>2020-03-07</td><td>185</td></tr><tr><td>2024-04-07</td><td>185</td></tr><tr><td>2022-03-25</td><td>185</td></tr><tr><td>2020-01-23</td><td>185</td></tr><tr><td>2023-03-23</td><td>185</td></tr><tr><td>2022-03-19</td><td>184</td></tr><tr><td>2021-02-26</td><td>184</td></tr><tr><td>2020-02-01</td><td>184</td></tr><tr><td>2021-01-01</td><td>184</td></tr><tr><td>2020-03-31</td><td>184</td></tr><tr><td>2022-03-20</td><td>184</td></tr><tr><td>2023-01-20</td><td>184</td></tr><tr><td>2021-01-29</td><td>184</td></tr><tr><td>2021-01-11</td><td>184</td></tr><tr><td>2023-02-17</td><td>184</td></tr><tr><td>2024-03-10</td><td>184</td></tr><tr><td>2021-03-03</td><td>184</td></tr><tr><td>2022-04-09</td><td>183</td></tr><tr><td>2022-02-07</td><td>183</td></tr><tr><td>2020-01-14</td><td>183</td></tr><tr><td>2021-04-01</td><td>183</td></tr><tr><td>2021-01-28</td><td>183</td></tr><tr><td>2023-02-04</td><td>182</td></tr><tr><td>2021-01-21</td><td>182</td></tr><tr><td>2020-03-15</td><td>182</td></tr><tr><td>2021-02-24</td><td>182</td></tr><tr><td>2020-01-07</td><td>181</td></tr><tr><td>2023-01-31</td><td>181</td></tr><tr><td>2022-02-14</td><td>181</td></tr><tr><td>2021-03-13</td><td>181</td></tr><tr><td>2022-04-05</td><td>181</td></tr><tr><td>2020-01-29</td><td>181</td></tr><tr><td>2024-02-22</td><td>181</td></tr><tr><td>2021-01-27</td><td>180</td></tr><tr><td>2021-03-21</td><td>179</td></tr><tr><td>2021-01-07</td><td>179</td></tr><tr><td>2021-02-18</td><td>179</td></tr><tr><td>2021-03-28</td><td>179</td></tr><tr><td>2024-01-08</td><td>179</td></tr><tr><td>2020-02-13</td><td>179</td></tr><tr><td>2022-01-15</td><td>178</td></tr><tr><td>2024-01-09</td><td>177</td></tr><tr><td>2020-01-19</td><td>177</td></tr><tr><td>2024-01-20</td><td>177</td></tr><tr><td>2021-04-05</td><td>177</td></tr><tr><td>2023-03-06</td><td>177</td></tr><tr><td>2020-03-09</td><td>176</td></tr><tr><td>2023-02-18</td><td>176</td></tr><tr><td>2020-03-03</td><td>176</td></tr><tr><td>2022-02-10</td><td>176</td></tr><tr><td>2020-04-03</td><td>176</td></tr><tr><td>2023-02-21</td><td>176</td></tr><tr><td>2023-04-03</td><td>176</td></tr><tr><td>2020-03-04</td><td>176</td></tr><tr><td>2022-02-03</td><td>175</td></tr><tr><td>2023-01-26</td><td>175</td></tr><tr><td>2024-01-24</td><td>175</td></tr><tr><td>2021-02-12</td><td>175</td></tr><tr><td>2024-04-03</td><td>175</td></tr><tr><td>2022-01-27</td><td>175</td></tr><tr><td>2020-03-21</td><td>174</td></tr><tr><td>2022-01-06</td><td>174</td></tr><tr><td>2021-04-09</td><td>174</td></tr><tr><td>2022-03-21</td><td>173</td></tr><tr><td>2020-02-11</td><td>172</td></tr><tr><td>2023-02-09</td><td>172</td></tr><tr><td>2022-01-22</td><td>172</td></tr><tr><td>2021-03-01</td><td>172</td></tr><tr><td>2020-03-13</td><td>171</td></tr><tr><td>2022-01-18</td><td>171</td></tr><tr><td>2023-03-25</td><td>171</td></tr><tr><td>2021-03-30</td><td>171</td></tr><tr><td>2024-01-22</td><td>171</td></tr><tr><td>2021-03-20</td><td>171</td></tr><tr><td>2021-04-02</td><td>171</td></tr><tr><td>2020-01-02</td><td>171</td></tr><tr><td>2020-03-20</td><td>171</td></tr><tr><td>2023-02-02</td><td>170</td></tr><tr><td>2020-02-22</td><td>170</td></tr><tr><td>2024-01-10</td><td>170</td></tr><tr><td>2023-03-27</td><td>170</td></tr><tr><td>2022-01-11</td><td>170</td></tr><tr><td>2021-03-27</td><td>169</td></tr><tr><td>2021-03-04</td><td>169</td></tr><tr><td>2022-04-10</td><td>168</td></tr><tr><td>2022-02-22</td><td>168</td></tr><tr><td>2020-03-17</td><td>168</td></tr><tr><td>2023-04-05</td><td>168</td></tr><tr><td>2023-02-03</td><td>168</td></tr><tr><td>2021-01-20</td><td>168</td></tr><tr><td>2024-04-02</td><td>167</td></tr><tr><td>2023-04-06</td><td>167</td></tr><tr><td>2023-01-21</td><td>167</td></tr><tr><td>2022-02-21</td><td>167</td></tr><tr><td>2020-02-18</td><td>167</td></tr><tr><td>2023-02-12</td><td>167</td></tr><tr><td>2021-02-20</td><td>166</td></tr><tr><td>2020-01-12</td><td>166</td></tr><tr><td>2024-03-01</td><td>166</td></tr><tr><td>2022-01-14</td><td>166</td></tr><tr><td>2021-01-08</td><td>166</td></tr><tr><td>2020-02-12</td><td>165</td></tr><tr><td>2021-03-14</td><td>165</td></tr><tr><td>2020-04-01</td><td>165</td></tr><tr><td>2024-03-26</td><td>165</td></tr><tr><td>2024-01-27</td><td>165</td></tr><tr><td>2021-01-10</td><td>164</td></tr><tr><td>2023-03-11</td><td>164</td></tr><tr><td>2020-02-07</td><td>164</td></tr><tr><td>2021-02-27</td><td>163</td></tr><tr><td>2020-02-17</td><td>163</td></tr><tr><td>2024-01-07</td><td>162</td></tr><tr><td>2022-02-15</td><td>162</td></tr><tr><td>2022-02-13</td><td>162</td></tr><tr><td>2023-03-05</td><td>162</td></tr><tr><td>2020-01-18</td><td>162</td></tr><tr><td>2022-02-12</td><td>161</td></tr><tr><td>2020-02-19</td><td>161</td></tr><tr><td>2021-02-19</td><td>161</td></tr><tr><td>2023-02-06</td><td>161</td></tr><tr><td>2024-01-23</td><td>161</td></tr><tr><td>2020-02-24</td><td>161</td></tr><tr><td>2020-01-16</td><td>161</td></tr><tr><td>2023-01-11</td><td>160</td></tr><tr><td>2022-02-09</td><td>160</td></tr><tr><td>2022-01-19</td><td>160</td></tr><tr><td>2023-01-17</td><td>160</td></tr><tr><td>2022-03-05</td><td>160</td></tr><tr><td>2021-04-10</td><td>160</td></tr><tr><td>2024-02-23</td><td>159</td></tr><tr><td>2020-03-25</td><td>159</td></tr><tr><td>2022-03-08</td><td>159</td></tr><tr><td>2023-03-29</td><td>159</td></tr><tr><td>2021-03-29</td><td>159</td></tr><tr><td>2020-02-04</td><td>158</td></tr><tr><td>2020-01-15</td><td>158</td></tr><tr><td>2020-02-21</td><td>157</td></tr><tr><td>2024-03-04</td><td>157</td></tr><tr><td>2020-01-28</td><td>157</td></tr><tr><td>2020-03-24</td><td>157</td></tr><tr><td>2023-03-15</td><td>157</td></tr><tr><td>2021-02-21</td><td>156</td></tr><tr><td>2021-01-26</td><td>156</td></tr><tr><td>2021-02-11</td><td>156</td></tr><tr><td>2023-04-07</td><td>156</td></tr><tr><td>2022-02-06</td><td>155</td></tr><tr><td>2024-02-12</td><td>155</td></tr><tr><td>2020-01-26</td><td>155</td></tr><tr><td>2024-03-20</td><td>154</td></tr><tr><td>2024-03-31</td><td>153</td></tr><tr><td>2024-01-02</td><td>153</td></tr><tr><td>2020-01-22</td><td>153</td></tr><tr><td>2024-02-26</td><td>153</td></tr><tr><td>2020-01-09</td><td>153</td></tr><tr><td>2021-02-14</td><td>153</td></tr><tr><td>2020-02-09</td><td>152</td></tr><tr><td>2020-01-13</td><td>152</td></tr><tr><td>2023-03-21</td><td>152</td></tr><tr><td>2023-03-03</td><td>152</td></tr><tr><td>2021-03-31</td><td>152</td></tr><tr><td>2022-01-02</td><td>152</td></tr><tr><td>2022-03-27</td><td>151</td></tr><tr><td>2021-03-23</td><td>151</td></tr><tr><td>2024-02-15</td><td>150</td></tr><tr><td>2022-03-26</td><td>150</td></tr><tr><td>2024-01-15</td><td>150</td></tr><tr><td>2020-04-07</td><td>149</td></tr><tr><td>2022-03-30</td><td>149</td></tr><tr><td>2023-01-09</td><td>149</td></tr><tr><td>2020-04-08</td><td>149</td></tr><tr><td>2023-01-10</td><td>149</td></tr><tr><td>2021-02-07</td><td>149</td></tr><tr><td>2021-03-19</td><td>149</td></tr><tr><td>2023-03-24</td><td>148</td></tr><tr><td>2024-02-04</td><td>148</td></tr><tr><td>2020-02-20</td><td>148</td></tr><tr><td>2024-04-04</td><td>148</td></tr><tr><td>2020-03-18</td><td>148</td></tr><tr><td>2024-02-21</td><td>147</td></tr><tr><td>2022-01-23</td><td>146</td></tr><tr><td>2024-02-02</td><td>146</td></tr><tr><td>2022-02-01</td><td>145</td></tr><tr><td>2020-02-29</td><td>145</td></tr><tr><td>2022-03-10</td><td>145</td></tr><tr><td>2024-01-21</td><td>145</td></tr><tr><td>2022-02-25</td><td>144</td></tr><tr><td>2022-02-28</td><td>144</td></tr><tr><td>2022-02-04</td><td>144</td></tr><tr><td>2023-02-24</td><td>144</td></tr><tr><td>2023-01-03</td><td>144</td></tr><tr><td>2023-01-15</td><td>144</td></tr><tr><td>2023-03-18</td><td>144</td></tr><tr><td>2023-01-01</td><td>143</td></tr><tr><td>2022-02-16</td><td>143</td></tr><tr><td>2024-04-08</td><td>143</td></tr><tr><td>2024-02-17</td><td>143</td></tr><tr><td>2021-03-05</td><td>143</td></tr><tr><td>2021-04-03</td><td>143</td></tr><tr><td>2020-01-31</td><td>143</td></tr><tr><td>2021-02-16</td><td>143</td></tr><tr><td>2020-03-12</td><td>142</td></tr><tr><td>2020-01-30</td><td>142</td></tr><tr><td>2022-03-02</td><td>142</td></tr><tr><td>2020-03-11</td><td>141</td></tr><tr><td>2024-04-06</td><td>141</td></tr><tr><td>2024-03-12</td><td>141</td></tr><tr><td>2023-01-28</td><td>141</td></tr><tr><td>2024-01-17</td><td>141</td></tr><tr><td>2021-01-04</td><td>141</td></tr><tr><td>2022-04-03</td><td>141</td></tr><tr><td>2024-03-05</td><td>140</td></tr><tr><td>2024-03-06</td><td>140</td></tr><tr><td>2021-03-24</td><td>140</td></tr><tr><td>2020-01-03</td><td>140</td></tr><tr><td>2023-03-01</td><td>140</td></tr><tr><td>2022-01-01</td><td>140</td></tr><tr><td>2023-01-08</td><td>140</td></tr><tr><td>2024-03-19</td><td>139</td></tr><tr><td>2022-01-20</td><td>139</td></tr><tr><td>2024-03-17</td><td>139</td></tr><tr><td>2024-04-05</td><td>139</td></tr><tr><td>2023-01-25</td><td>138</td></tr><tr><td>2023-02-10</td><td>138</td></tr><tr><td>2022-03-29</td><td>138</td></tr><tr><td>2023-01-07</td><td>138</td></tr><tr><td>2021-02-03</td><td>138</td></tr><tr><td>2022-01-09</td><td>137</td></tr><tr><td>2021-04-07</td><td>137</td></tr><tr><td>2021-03-16</td><td>137</td></tr><tr><td>2022-03-04</td><td>137</td></tr><tr><td>2023-02-08</td><td>136</td></tr><tr><td>2021-03-26</td><td>136</td></tr><tr><td>2022-02-20</td><td>136</td></tr><tr><td>2020-02-06</td><td>136</td></tr><tr><td>2024-03-28</td><td>135</td></tr><tr><td>2021-01-09</td><td>135</td></tr><tr><td>2020-03-16</td><td>135</td></tr><tr><td>2020-03-29</td><td>134</td></tr><tr><td>2021-02-05</td><td>134</td></tr><tr><td>2020-01-04</td><td>134</td></tr><tr><td>2023-01-05</td><td>134</td></tr><tr><td>2020-01-05</td><td>134</td></tr><tr><td>2022-03-06</td><td>134</td></tr><tr><td>2022-03-31</td><td>134</td></tr><tr><td>2024-03-15</td><td>134</td></tr><tr><td>2020-03-10</td><td>133</td></tr><tr><td>2020-03-06</td><td>133</td></tr><tr><td>2020-03-08</td><td>133</td></tr><tr><td>2024-01-16</td><td>133</td></tr><tr><td>2022-01-05</td><td>133</td></tr><tr><td>2024-01-06</td><td>133</td></tr><tr><td>2024-02-09</td><td>132</td></tr><tr><td>2024-04-01</td><td>132</td></tr><tr><td>2020-03-22</td><td>132</td></tr><tr><td>2022-01-12</td><td>132</td></tr><tr><td>2020-01-21</td><td>131</td></tr><tr><td>2020-01-17</td><td>131</td></tr><tr><td>2020-01-11</td><td>131</td></tr><tr><td>2023-03-17</td><td>131</td></tr><tr><td>2022-02-05</td><td>131</td></tr><tr><td>2022-01-17</td><td>131</td></tr><tr><td>2023-03-14</td><td>131</td></tr><tr><td>2022-02-26</td><td>131</td></tr><tr><td>2023-01-16</td><td>131</td></tr><tr><td>2020-04-05</td><td>131</td></tr><tr><td>2022-01-21</td><td>131</td></tr><tr><td>2022-01-31</td><td>130</td></tr><tr><td>2020-01-25</td><td>130</td></tr><tr><td>2021-01-24</td><td>130</td></tr><tr><td>2023-02-07</td><td>130</td></tr><tr><td>2020-02-02</td><td>130</td></tr><tr><td>2024-02-05</td><td>129</td></tr><tr><td>2023-01-14</td><td>129</td></tr><tr><td>2022-04-02</td><td>128</td></tr><tr><td>2022-01-13</td><td>128</td></tr><tr><td>2021-01-22</td><td>128</td></tr><tr><td>2022-02-23</td><td>128</td></tr><tr><td>2021-02-09</td><td>128</td></tr><tr><td>2023-02-26</td><td>128</td></tr><tr><td>2020-03-05</td><td>127</td></tr><tr><td>2022-03-01</td><td>127</td></tr><tr><td>2022-03-14</td><td>127</td></tr><tr><td>2023-01-27</td><td>127</td></tr><tr><td>2021-03-17</td><td>127</td></tr><tr><td>2023-01-30</td><td>127</td></tr><tr><td>2024-01-13</td><td>126</td></tr><tr><td>2020-02-08</td><td>126</td></tr><tr><td>2024-03-07</td><td>126</td></tr><tr><td>2024-03-30</td><td>126</td></tr><tr><td>2022-02-11</td><td>126</td></tr><tr><td>2024-01-30</td><td>125</td></tr><tr><td>2024-03-03</td><td>125</td></tr><tr><td>2022-04-04</td><td>125</td></tr><tr><td>2021-02-23</td><td>125</td></tr><tr><td>2022-01-08</td><td>124</td></tr><tr><td>2023-04-01</td><td>124</td></tr><tr><td>2023-04-02</td><td>124</td></tr><tr><td>2023-03-26</td><td>124</td></tr><tr><td>2020-03-30</td><td>124</td></tr><tr><td>2020-03-27</td><td>124</td></tr><tr><td>2024-03-11</td><td>124</td></tr><tr><td>2023-01-04</td><td>124</td></tr><tr><td>2024-01-29</td><td>124</td></tr><tr><td>2024-01-04</td><td>123</td></tr><tr><td>2024-02-07</td><td>123</td></tr><tr><td>2021-02-08</td><td>123</td></tr><tr><td>2021-01-03</td><td>123</td></tr><tr><td>2020-02-15</td><td>122</td></tr><tr><td>2024-02-27</td><td>122</td></tr><tr><td>2022-01-04</td><td>122</td></tr><tr><td>2020-03-19</td><td>122</td></tr><tr><td>2022-01-28</td><td>122</td></tr><tr><td>2021-01-12</td><td>122</td></tr><tr><td>2024-02-16</td><td>121</td></tr><tr><td>2023-03-04</td><td>121</td></tr><tr><td>2023-02-05</td><td>121</td></tr><tr><td>2024-02-11</td><td>121</td></tr><tr><td>2021-03-08</td><td>121</td></tr><tr><td>2020-02-10</td><td>121</td></tr><tr><td>2020-03-01</td><td>121</td></tr><tr><td>2021-01-15</td><td>121</td></tr><tr><td>2022-03-16</td><td>120</td></tr><tr><td>2022-03-09</td><td>120</td></tr><tr><td>2023-02-13</td><td>120</td></tr><tr><td>2024-03-09</td><td>120</td></tr><tr><td>2021-01-06</td><td>120</td></tr><tr><td>2021-02-04</td><td>120</td></tr><tr><td>2024-01-25</td><td>120</td></tr><tr><td>2021-03-07</td><td>119</td></tr><tr><td>2021-01-05</td><td>119</td></tr><tr><td>2023-04-04</td><td>119</td></tr><tr><td>2023-03-31</td><td>119</td></tr><tr><td>2020-01-20</td><td>119</td></tr><tr><td>2022-03-23</td><td>119</td></tr><tr><td>2022-02-02</td><td>119</td></tr><tr><td>2020-02-23</td><td>118</td></tr><tr><td>2021-03-12</td><td>118</td></tr><tr><td>2023-02-19</td><td>118</td></tr><tr><td>2024-02-01</td><td>118</td></tr><tr><td>2021-02-28</td><td>118</td></tr><tr><td>2024-03-29</td><td>117</td></tr><tr><td>2024-01-05</td><td>117</td></tr><tr><td>2021-02-02</td><td>116</td></tr><tr><td>2021-04-04</td><td>116</td></tr><tr><td>2022-01-03</td><td>116</td></tr><tr><td>2022-01-07</td><td>116</td></tr><tr><td>2020-01-27</td><td>116</td></tr><tr><td>2022-03-12</td><td>115</td></tr><tr><td>2022-01-10</td><td>115</td></tr><tr><td>2021-01-23</td><td>115</td></tr><tr><td>2024-02-28</td><td>115</td></tr><tr><td>2022-04-01</td><td>115</td></tr><tr><td>2021-03-22</td><td>114</td></tr><tr><td>2020-02-25</td><td>114</td></tr><tr><td>2024-02-25</td><td>114</td></tr><tr><td>2021-02-17</td><td>114</td></tr><tr><td>2022-01-24</td><td>113</td></tr><tr><td>2021-02-01</td><td>113</td></tr><tr><td>2021-02-06</td><td>113</td></tr><tr><td>2021-03-02</td><td>113</td></tr><tr><td>2024-01-26</td><td>113</td></tr><tr><td>2020-04-02</td><td>113</td></tr><tr><td>2024-01-11</td><td>112</td></tr><tr><td>2020-01-10</td><td>112</td></tr><tr><td>2020-03-28</td><td>112</td></tr><tr><td>2023-03-19</td><td>112</td></tr><tr><td>2024-03-14</td><td>112</td></tr><tr><td>2023-02-11</td><td>111</td></tr><tr><td>2021-01-16</td><td>111</td></tr><tr><td>2024-03-13</td><td>111</td></tr><tr><td>2020-01-01</td><td>111</td></tr><tr><td>2023-03-02</td><td>111</td></tr><tr><td>2022-01-25</td><td>110</td></tr><tr><td>2023-03-16</td><td>110</td></tr><tr><td>2020-01-24</td><td>109</td></tr><tr><td>2020-04-09</td><td>109</td></tr><tr><td>2023-03-09</td><td>109</td></tr><tr><td>2022-03-24</td><td>109</td></tr><tr><td>2021-02-22</td><td>109</td></tr><tr><td>2021-01-13</td><td>109</td></tr><tr><td>2024-01-18</td><td>108</td></tr><tr><td>2020-01-06</td><td>108</td></tr><tr><td>2024-02-20</td><td>108</td></tr><tr><td>2022-04-08</td><td>108</td></tr><tr><td>2023-03-08</td><td>108</td></tr><tr><td>2023-01-23</td><td>108</td></tr><tr><td>2023-03-28</td><td>108</td></tr><tr><td>2022-01-16</td><td>107</td></tr><tr><td>2023-03-20</td><td>107</td></tr><tr><td>2024-03-02</td><td>107</td></tr><tr><td>2021-01-31</td><td>107</td></tr><tr><td>2024-03-08</td><td>106</td></tr><tr><td>2024-02-10</td><td>106</td></tr><tr><td>2024-02-24</td><td>106</td></tr><tr><td>2020-02-03</td><td>106</td></tr><tr><td>2020-02-05</td><td>105</td></tr><tr><td>2024-03-16</td><td>105</td></tr><tr><td>2023-02-23</td><td>105</td></tr><tr><td>2022-01-26</td><td>105</td></tr><tr><td>2021-03-11</td><td>105</td></tr><tr><td>2023-01-02</td><td>104</td></tr><tr><td>2022-03-11</td><td>104</td></tr><tr><td>2024-02-08</td><td>104</td></tr><tr><td>2020-02-27</td><td>104</td></tr><tr><td>2024-02-29</td><td>104</td></tr><tr><td>2024-01-19</td><td>104</td></tr><tr><td>2023-02-15</td><td>104</td></tr><tr><td>2022-02-08</td><td>104</td></tr><tr><td>2020-02-26</td><td>104</td></tr><tr><td>2024-02-06</td><td>103</td></tr><tr><td>2024-03-18</td><td>103</td></tr><tr><td>2023-01-22</td><td>103</td></tr><tr><td>2024-03-24</td><td>103</td></tr><tr><td>2022-03-18</td><td>103</td></tr><tr><td>2020-02-16</td><td>103</td></tr><tr><td>2020-03-14</td><td>103</td></tr><tr><td>2022-03-28</td><td>102</td></tr><tr><td>2023-02-14</td><td>102</td></tr><tr><td>2024-01-03</td><td>102</td></tr><tr><td>2024-02-14</td><td>102</td></tr><tr><td>2024-01-28</td><td>101</td></tr><tr><td>2020-03-02</td><td>100</td></tr><tr><td>2021-03-06</td><td>100</td></tr></tbody></table></div>"
      ]
     },
     "metadata": {
      "application/vnd.databricks.v1+output": {
       "addedWidgets": {},
       "aggData": [],
       "aggError": "",
       "aggOverflow": false,
       "aggSchema": [],
       "aggSeriesLimitReached": false,
       "aggType": "",
       "arguments": {},
       "columnCustomDisplayInfos": {},
       "data": [
        [
         "2023-02-16",
         199
        ],
        [
         "2023-02-01",
         199
        ],
        [
         "2021-01-02",
         199
        ],
        [
         "2020-04-06",
         198
        ],
        [
         "2021-04-08",
         198
        ],
        [
         "2022-01-30",
         198
        ],
        [
         "2023-01-13",
         198
        ],
        [
         "2023-02-28",
         198
        ],
        [
         "2024-04-09",
         198
        ],
        [
         "2023-03-12",
         197
        ],
        [
         "2023-04-09",
         197
        ],
        [
         "2024-03-23",
         197
        ],
        [
         "2021-02-25",
         197
        ],
        [
         "2024-02-13",
         197
        ],
        [
         "2023-01-29",
         197
        ],
        [
         "2023-03-07",
         197
        ],
        [
         "2022-02-24",
         197
        ],
        [
         "2022-04-06",
         196
        ],
        [
         "2024-03-21",
         196
        ],
        [
         "2020-03-26",
         196
        ],
        [
         "2024-03-22",
         196
        ],
        [
         "2021-01-17",
         196
        ],
        [
         "2022-01-29",
         195
        ],
        [
         "2023-01-12",
         195
        ],
        [
         "2023-02-22",
         195
        ],
        [
         "2023-04-08",
         195
        ],
        [
         "2020-04-04",
         195
        ],
        [
         "2020-03-23",
         195
        ],
        [
         "2024-03-25",
         195
        ],
        [
         "2024-03-27",
         194
        ],
        [
         "2021-03-25",
         194
        ],
        [
         "2024-04-10",
         194
        ],
        [
         "2022-02-18",
         194
        ],
        [
         "2023-02-20",
         194
        ],
        [
         "2023-03-13",
         193
        ],
        [
         "2022-03-03",
         193
        ],
        [
         "2024-01-01",
         193
        ],
        [
         "2023-02-25",
         192
        ],
        [
         "2022-03-15",
         192
        ],
        [
         "2021-03-10",
         192
        ],
        [
         "2022-02-27",
         192
        ],
        [
         "2021-03-15",
         191
        ],
        [
         "2022-02-19",
         191
        ],
        [
         "2021-03-18",
         191
        ],
        [
         "2022-04-07",
         191
        ],
        [
         "2024-02-18",
         191
        ],
        [
         "2022-03-17",
         191
        ],
        [
         "2023-03-10",
         191
        ],
        [
         "2021-02-13",
         191
        ],
        [
         "2021-01-14",
         191
        ],
        [
         "2022-03-22",
         190
        ],
        [
         "2024-02-19",
         190
        ],
        [
         "2021-04-06",
         190
        ],
        [
         "2021-01-30",
         190
        ],
        [
         "2023-02-27",
         190
        ],
        [
         "2023-01-24",
         190
        ],
        [
         "2022-02-17",
         190
        ],
        [
         "2020-01-08",
         190
        ],
        [
         "2023-03-22",
         190
        ],
        [
         "2021-01-18",
         189
        ],
        [
         "2024-01-12",
         189
        ],
        [
         "2022-03-13",
         189
        ],
        [
         "2023-01-18",
         189
        ],
        [
         "2023-01-19",
         189
        ],
        [
         "2021-03-09",
         188
        ],
        [
         "2021-02-15",
         187
        ],
        [
         "2024-01-14",
         187
        ],
        [
         "2022-03-07",
         187
        ],
        [
         "2024-01-31",
         187
        ],
        [
         "2023-01-06",
         187
        ],
        [
         "2020-02-14",
         187
        ],
        [
         "2020-02-28",
         187
        ],
        [
         "2021-01-25",
         186
        ],
        [
         "2021-02-10",
         186
        ],
        [
         "2021-01-19",
         186
        ],
        [
         "2024-02-03",
         186
        ],
        [
         "2023-03-30",
         186
        ],
        [
         "2020-03-07",
         185
        ],
        [
         "2024-04-07",
         185
        ],
        [
         "2022-03-25",
         185
        ],
        [
         "2020-01-23",
         185
        ],
        [
         "2023-03-23",
         185
        ],
        [
         "2022-03-19",
         184
        ],
        [
         "2021-02-26",
         184
        ],
        [
         "2020-02-01",
         184
        ],
        [
         "2021-01-01",
         184
        ],
        [
         "2020-03-31",
         184
        ],
        [
         "2022-03-20",
         184
        ],
        [
         "2023-01-20",
         184
        ],
        [
         "2021-01-29",
         184
        ],
        [
         "2021-01-11",
         184
        ],
        [
         "2023-02-17",
         184
        ],
        [
         "2024-03-10",
         184
        ],
        [
         "2021-03-03",
         184
        ],
        [
         "2022-04-09",
         183
        ],
        [
         "2022-02-07",
         183
        ],
        [
         "2020-01-14",
         183
        ],
        [
         "2021-04-01",
         183
        ],
        [
         "2021-01-28",
         183
        ],
        [
         "2023-02-04",
         182
        ],
        [
         "2021-01-21",
         182
        ],
        [
         "2020-03-15",
         182
        ],
        [
         "2021-02-24",
         182
        ],
        [
         "2020-01-07",
         181
        ],
        [
         "2023-01-31",
         181
        ],
        [
         "2022-02-14",
         181
        ],
        [
         "2021-03-13",
         181
        ],
        [
         "2022-04-05",
         181
        ],
        [
         "2020-01-29",
         181
        ],
        [
         "2024-02-22",
         181
        ],
        [
         "2021-01-27",
         180
        ],
        [
         "2021-03-21",
         179
        ],
        [
         "2021-01-07",
         179
        ],
        [
         "2021-02-18",
         179
        ],
        [
         "2021-03-28",
         179
        ],
        [
         "2024-01-08",
         179
        ],
        [
         "2020-02-13",
         179
        ],
        [
         "2022-01-15",
         178
        ],
        [
         "2024-01-09",
         177
        ],
        [
         "2020-01-19",
         177
        ],
        [
         "2024-01-20",
         177
        ],
        [
         "2021-04-05",
         177
        ],
        [
         "2023-03-06",
         177
        ],
        [
         "2020-03-09",
         176
        ],
        [
         "2023-02-18",
         176
        ],
        [
         "2020-03-03",
         176
        ],
        [
         "2022-02-10",
         176
        ],
        [
         "2020-04-03",
         176
        ],
        [
         "2023-02-21",
         176
        ],
        [
         "2023-04-03",
         176
        ],
        [
         "2020-03-04",
         176
        ],
        [
         "2022-02-03",
         175
        ],
        [
         "2023-01-26",
         175
        ],
        [
         "2024-01-24",
         175
        ],
        [
         "2021-02-12",
         175
        ],
        [
         "2024-04-03",
         175
        ],
        [
         "2022-01-27",
         175
        ],
        [
         "2020-03-21",
         174
        ],
        [
         "2022-01-06",
         174
        ],
        [
         "2021-04-09",
         174
        ],
        [
         "2022-03-21",
         173
        ],
        [
         "2020-02-11",
         172
        ],
        [
         "2023-02-09",
         172
        ],
        [
         "2022-01-22",
         172
        ],
        [
         "2021-03-01",
         172
        ],
        [
         "2020-03-13",
         171
        ],
        [
         "2022-01-18",
         171
        ],
        [
         "2023-03-25",
         171
        ],
        [
         "2021-03-30",
         171
        ],
        [
         "2024-01-22",
         171
        ],
        [
         "2021-03-20",
         171
        ],
        [
         "2021-04-02",
         171
        ],
        [
         "2020-01-02",
         171
        ],
        [
         "2020-03-20",
         171
        ],
        [
         "2023-02-02",
         170
        ],
        [
         "2020-02-22",
         170
        ],
        [
         "2024-01-10",
         170
        ],
        [
         "2023-03-27",
         170
        ],
        [
         "2022-01-11",
         170
        ],
        [
         "2021-03-27",
         169
        ],
        [
         "2021-03-04",
         169
        ],
        [
         "2022-04-10",
         168
        ],
        [
         "2022-02-22",
         168
        ],
        [
         "2020-03-17",
         168
        ],
        [
         "2023-04-05",
         168
        ],
        [
         "2023-02-03",
         168
        ],
        [
         "2021-01-20",
         168
        ],
        [
         "2024-04-02",
         167
        ],
        [
         "2023-04-06",
         167
        ],
        [
         "2023-01-21",
         167
        ],
        [
         "2022-02-21",
         167
        ],
        [
         "2020-02-18",
         167
        ],
        [
         "2023-02-12",
         167
        ],
        [
         "2021-02-20",
         166
        ],
        [
         "2020-01-12",
         166
        ],
        [
         "2024-03-01",
         166
        ],
        [
         "2022-01-14",
         166
        ],
        [
         "2021-01-08",
         166
        ],
        [
         "2020-02-12",
         165
        ],
        [
         "2021-03-14",
         165
        ],
        [
         "2020-04-01",
         165
        ],
        [
         "2024-03-26",
         165
        ],
        [
         "2024-01-27",
         165
        ],
        [
         "2021-01-10",
         164
        ],
        [
         "2023-03-11",
         164
        ],
        [
         "2020-02-07",
         164
        ],
        [
         "2021-02-27",
         163
        ],
        [
         "2020-02-17",
         163
        ],
        [
         "2024-01-07",
         162
        ],
        [
         "2022-02-15",
         162
        ],
        [
         "2022-02-13",
         162
        ],
        [
         "2023-03-05",
         162
        ],
        [
         "2020-01-18",
         162
        ],
        [
         "2022-02-12",
         161
        ],
        [
         "2020-02-19",
         161
        ],
        [
         "2021-02-19",
         161
        ],
        [
         "2023-02-06",
         161
        ],
        [
         "2024-01-23",
         161
        ],
        [
         "2020-02-24",
         161
        ],
        [
         "2020-01-16",
         161
        ],
        [
         "2023-01-11",
         160
        ],
        [
         "2022-02-09",
         160
        ],
        [
         "2022-01-19",
         160
        ],
        [
         "2023-01-17",
         160
        ],
        [
         "2022-03-05",
         160
        ],
        [
         "2021-04-10",
         160
        ],
        [
         "2024-02-23",
         159
        ],
        [
         "2020-03-25",
         159
        ],
        [
         "2022-03-08",
         159
        ],
        [
         "2023-03-29",
         159
        ],
        [
         "2021-03-29",
         159
        ],
        [
         "2020-02-04",
         158
        ],
        [
         "2020-01-15",
         158
        ],
        [
         "2020-02-21",
         157
        ],
        [
         "2024-03-04",
         157
        ],
        [
         "2020-01-28",
         157
        ],
        [
         "2020-03-24",
         157
        ],
        [
         "2023-03-15",
         157
        ],
        [
         "2021-02-21",
         156
        ],
        [
         "2021-01-26",
         156
        ],
        [
         "2021-02-11",
         156
        ],
        [
         "2023-04-07",
         156
        ],
        [
         "2022-02-06",
         155
        ],
        [
         "2024-02-12",
         155
        ],
        [
         "2020-01-26",
         155
        ],
        [
         "2024-03-20",
         154
        ],
        [
         "2024-03-31",
         153
        ],
        [
         "2024-01-02",
         153
        ],
        [
         "2020-01-22",
         153
        ],
        [
         "2024-02-26",
         153
        ],
        [
         "2020-01-09",
         153
        ],
        [
         "2021-02-14",
         153
        ],
        [
         "2020-02-09",
         152
        ],
        [
         "2020-01-13",
         152
        ],
        [
         "2023-03-21",
         152
        ],
        [
         "2023-03-03",
         152
        ],
        [
         "2021-03-31",
         152
        ],
        [
         "2022-01-02",
         152
        ],
        [
         "2022-03-27",
         151
        ],
        [
         "2021-03-23",
         151
        ],
        [
         "2024-02-15",
         150
        ],
        [
         "2022-03-26",
         150
        ],
        [
         "2024-01-15",
         150
        ],
        [
         "2020-04-07",
         149
        ],
        [
         "2022-03-30",
         149
        ],
        [
         "2023-01-09",
         149
        ],
        [
         "2020-04-08",
         149
        ],
        [
         "2023-01-10",
         149
        ],
        [
         "2021-02-07",
         149
        ],
        [
         "2021-03-19",
         149
        ],
        [
         "2023-03-24",
         148
        ],
        [
         "2024-02-04",
         148
        ],
        [
         "2020-02-20",
         148
        ],
        [
         "2024-04-04",
         148
        ],
        [
         "2020-03-18",
         148
        ],
        [
         "2024-02-21",
         147
        ],
        [
         "2022-01-23",
         146
        ],
        [
         "2024-02-02",
         146
        ],
        [
         "2022-02-01",
         145
        ],
        [
         "2020-02-29",
         145
        ],
        [
         "2022-03-10",
         145
        ],
        [
         "2024-01-21",
         145
        ],
        [
         "2022-02-25",
         144
        ],
        [
         "2022-02-28",
         144
        ],
        [
         "2022-02-04",
         144
        ],
        [
         "2023-02-24",
         144
        ],
        [
         "2023-01-03",
         144
        ],
        [
         "2023-01-15",
         144
        ],
        [
         "2023-03-18",
         144
        ],
        [
         "2023-01-01",
         143
        ],
        [
         "2022-02-16",
         143
        ],
        [
         "2024-04-08",
         143
        ],
        [
         "2024-02-17",
         143
        ],
        [
         "2021-03-05",
         143
        ],
        [
         "2021-04-03",
         143
        ],
        [
         "2020-01-31",
         143
        ],
        [
         "2021-02-16",
         143
        ],
        [
         "2020-03-12",
         142
        ],
        [
         "2020-01-30",
         142
        ],
        [
         "2022-03-02",
         142
        ],
        [
         "2020-03-11",
         141
        ],
        [
         "2024-04-06",
         141
        ],
        [
         "2024-03-12",
         141
        ],
        [
         "2023-01-28",
         141
        ],
        [
         "2024-01-17",
         141
        ],
        [
         "2021-01-04",
         141
        ],
        [
         "2022-04-03",
         141
        ],
        [
         "2024-03-05",
         140
        ],
        [
         "2024-03-06",
         140
        ],
        [
         "2021-03-24",
         140
        ],
        [
         "2020-01-03",
         140
        ],
        [
         "2023-03-01",
         140
        ],
        [
         "2022-01-01",
         140
        ],
        [
         "2023-01-08",
         140
        ],
        [
         "2024-03-19",
         139
        ],
        [
         "2022-01-20",
         139
        ],
        [
         "2024-03-17",
         139
        ],
        [
         "2024-04-05",
         139
        ],
        [
         "2023-01-25",
         138
        ],
        [
         "2023-02-10",
         138
        ],
        [
         "2022-03-29",
         138
        ],
        [
         "2023-01-07",
         138
        ],
        [
         "2021-02-03",
         138
        ],
        [
         "2022-01-09",
         137
        ],
        [
         "2021-04-07",
         137
        ],
        [
         "2021-03-16",
         137
        ],
        [
         "2022-03-04",
         137
        ],
        [
         "2023-02-08",
         136
        ],
        [
         "2021-03-26",
         136
        ],
        [
         "2022-02-20",
         136
        ],
        [
         "2020-02-06",
         136
        ],
        [
         "2024-03-28",
         135
        ],
        [
         "2021-01-09",
         135
        ],
        [
         "2020-03-16",
         135
        ],
        [
         "2020-03-29",
         134
        ],
        [
         "2021-02-05",
         134
        ],
        [
         "2020-01-04",
         134
        ],
        [
         "2023-01-05",
         134
        ],
        [
         "2020-01-05",
         134
        ],
        [
         "2022-03-06",
         134
        ],
        [
         "2022-03-31",
         134
        ],
        [
         "2024-03-15",
         134
        ],
        [
         "2020-03-10",
         133
        ],
        [
         "2020-03-06",
         133
        ],
        [
         "2020-03-08",
         133
        ],
        [
         "2024-01-16",
         133
        ],
        [
         "2022-01-05",
         133
        ],
        [
         "2024-01-06",
         133
        ],
        [
         "2024-02-09",
         132
        ],
        [
         "2024-04-01",
         132
        ],
        [
         "2020-03-22",
         132
        ],
        [
         "2022-01-12",
         132
        ],
        [
         "2020-01-21",
         131
        ],
        [
         "2020-01-17",
         131
        ],
        [
         "2020-01-11",
         131
        ],
        [
         "2023-03-17",
         131
        ],
        [
         "2022-02-05",
         131
        ],
        [
         "2022-01-17",
         131
        ],
        [
         "2023-03-14",
         131
        ],
        [
         "2022-02-26",
         131
        ],
        [
         "2023-01-16",
         131
        ],
        [
         "2020-04-05",
         131
        ],
        [
         "2022-01-21",
         131
        ],
        [
         "2022-01-31",
         130
        ],
        [
         "2020-01-25",
         130
        ],
        [
         "2021-01-24",
         130
        ],
        [
         "2023-02-07",
         130
        ],
        [
         "2020-02-02",
         130
        ],
        [
         "2024-02-05",
         129
        ],
        [
         "2023-01-14",
         129
        ],
        [
         "2022-04-02",
         128
        ],
        [
         "2022-01-13",
         128
        ],
        [
         "2021-01-22",
         128
        ],
        [
         "2022-02-23",
         128
        ],
        [
         "2021-02-09",
         128
        ],
        [
         "2023-02-26",
         128
        ],
        [
         "2020-03-05",
         127
        ],
        [
         "2022-03-01",
         127
        ],
        [
         "2022-03-14",
         127
        ],
        [
         "2023-01-27",
         127
        ],
        [
         "2021-03-17",
         127
        ],
        [
         "2023-01-30",
         127
        ],
        [
         "2024-01-13",
         126
        ],
        [
         "2020-02-08",
         126
        ],
        [
         "2024-03-07",
         126
        ],
        [
         "2024-03-30",
         126
        ],
        [
         "2022-02-11",
         126
        ],
        [
         "2024-01-30",
         125
        ],
        [
         "2024-03-03",
         125
        ],
        [
         "2022-04-04",
         125
        ],
        [
         "2021-02-23",
         125
        ],
        [
         "2022-01-08",
         124
        ],
        [
         "2023-04-01",
         124
        ],
        [
         "2023-04-02",
         124
        ],
        [
         "2023-03-26",
         124
        ],
        [
         "2020-03-30",
         124
        ],
        [
         "2020-03-27",
         124
        ],
        [
         "2024-03-11",
         124
        ],
        [
         "2023-01-04",
         124
        ],
        [
         "2024-01-29",
         124
        ],
        [
         "2024-01-04",
         123
        ],
        [
         "2024-02-07",
         123
        ],
        [
         "2021-02-08",
         123
        ],
        [
         "2021-01-03",
         123
        ],
        [
         "2020-02-15",
         122
        ],
        [
         "2024-02-27",
         122
        ],
        [
         "2022-01-04",
         122
        ],
        [
         "2020-03-19",
         122
        ],
        [
         "2022-01-28",
         122
        ],
        [
         "2021-01-12",
         122
        ],
        [
         "2024-02-16",
         121
        ],
        [
         "2023-03-04",
         121
        ],
        [
         "2023-02-05",
         121
        ],
        [
         "2024-02-11",
         121
        ],
        [
         "2021-03-08",
         121
        ],
        [
         "2020-02-10",
         121
        ],
        [
         "2020-03-01",
         121
        ],
        [
         "2021-01-15",
         121
        ],
        [
         "2022-03-16",
         120
        ],
        [
         "2022-03-09",
         120
        ],
        [
         "2023-02-13",
         120
        ],
        [
         "2024-03-09",
         120
        ],
        [
         "2021-01-06",
         120
        ],
        [
         "2021-02-04",
         120
        ],
        [
         "2024-01-25",
         120
        ],
        [
         "2021-03-07",
         119
        ],
        [
         "2021-01-05",
         119
        ],
        [
         "2023-04-04",
         119
        ],
        [
         "2023-03-31",
         119
        ],
        [
         "2020-01-20",
         119
        ],
        [
         "2022-03-23",
         119
        ],
        [
         "2022-02-02",
         119
        ],
        [
         "2020-02-23",
         118
        ],
        [
         "2021-03-12",
         118
        ],
        [
         "2023-02-19",
         118
        ],
        [
         "2024-02-01",
         118
        ],
        [
         "2021-02-28",
         118
        ],
        [
         "2024-03-29",
         117
        ],
        [
         "2024-01-05",
         117
        ],
        [
         "2021-02-02",
         116
        ],
        [
         "2021-04-04",
         116
        ],
        [
         "2022-01-03",
         116
        ],
        [
         "2022-01-07",
         116
        ],
        [
         "2020-01-27",
         116
        ],
        [
         "2022-03-12",
         115
        ],
        [
         "2022-01-10",
         115
        ],
        [
         "2021-01-23",
         115
        ],
        [
         "2024-02-28",
         115
        ],
        [
         "2022-04-01",
         115
        ],
        [
         "2021-03-22",
         114
        ],
        [
         "2020-02-25",
         114
        ],
        [
         "2024-02-25",
         114
        ],
        [
         "2021-02-17",
         114
        ],
        [
         "2022-01-24",
         113
        ],
        [
         "2021-02-01",
         113
        ],
        [
         "2021-02-06",
         113
        ],
        [
         "2021-03-02",
         113
        ],
        [
         "2024-01-26",
         113
        ],
        [
         "2020-04-02",
         113
        ],
        [
         "2024-01-11",
         112
        ],
        [
         "2020-01-10",
         112
        ],
        [
         "2020-03-28",
         112
        ],
        [
         "2023-03-19",
         112
        ],
        [
         "2024-03-14",
         112
        ],
        [
         "2023-02-11",
         111
        ],
        [
         "2021-01-16",
         111
        ],
        [
         "2024-03-13",
         111
        ],
        [
         "2020-01-01",
         111
        ],
        [
         "2023-03-02",
         111
        ],
        [
         "2022-01-25",
         110
        ],
        [
         "2023-03-16",
         110
        ],
        [
         "2020-01-24",
         109
        ],
        [
         "2020-04-09",
         109
        ],
        [
         "2023-03-09",
         109
        ],
        [
         "2022-03-24",
         109
        ],
        [
         "2021-02-22",
         109
        ],
        [
         "2021-01-13",
         109
        ],
        [
         "2024-01-18",
         108
        ],
        [
         "2020-01-06",
         108
        ],
        [
         "2024-02-20",
         108
        ],
        [
         "2022-04-08",
         108
        ],
        [
         "2023-03-08",
         108
        ],
        [
         "2023-01-23",
         108
        ],
        [
         "2023-03-28",
         108
        ],
        [
         "2022-01-16",
         107
        ],
        [
         "2023-03-20",
         107
        ],
        [
         "2024-03-02",
         107
        ],
        [
         "2021-01-31",
         107
        ],
        [
         "2024-03-08",
         106
        ],
        [
         "2024-02-10",
         106
        ],
        [
         "2024-02-24",
         106
        ],
        [
         "2020-02-03",
         106
        ],
        [
         "2020-02-05",
         105
        ],
        [
         "2024-03-16",
         105
        ],
        [
         "2023-02-23",
         105
        ],
        [
         "2022-01-26",
         105
        ],
        [
         "2021-03-11",
         105
        ],
        [
         "2023-01-02",
         104
        ],
        [
         "2022-03-11",
         104
        ],
        [
         "2024-02-08",
         104
        ],
        [
         "2020-02-27",
         104
        ],
        [
         "2024-02-29",
         104
        ],
        [
         "2024-01-19",
         104
        ],
        [
         "2023-02-15",
         104
        ],
        [
         "2022-02-08",
         104
        ],
        [
         "2020-02-26",
         104
        ],
        [
         "2024-02-06",
         103
        ],
        [
         "2024-03-18",
         103
        ],
        [
         "2023-01-22",
         103
        ],
        [
         "2024-03-24",
         103
        ],
        [
         "2022-03-18",
         103
        ],
        [
         "2020-02-16",
         103
        ],
        [
         "2020-03-14",
         103
        ],
        [
         "2022-03-28",
         102
        ],
        [
         "2023-02-14",
         102
        ],
        [
         "2024-01-03",
         102
        ],
        [
         "2024-02-14",
         102
        ],
        [
         "2024-01-28",
         101
        ],
        [
         "2020-03-02",
         100
        ],
        [
         "2021-03-06",
         100
        ]
       ],
       "datasetInfos": [],
       "dbfsResultPath": null,
       "isJsonSchema": true,
       "metadata": {},
       "overflow": false,
       "plotOptions": {
        "customPlotOptions": {},
        "displayType": "table",
        "pivotAggregation": null,
        "pivotColumns": null,
        "xColumns": null,
        "yColumns": null
       },
       "removedWidgets": [],
       "schema": [
        {
         "metadata": "{\"__detected_date_formats\":\"d/M/yyyy\"}",
         "name": "date",
         "type": "\"date\""
        },
        {
         "metadata": "{}",
         "name": "test",
         "type": "\"long\""
        }
       ],
       "type": "table"
      }
     },
     "output_type": "display_data"
    }
   ],
   "source": [
    "df_24.groupby(\"date\").agg(sum(col(\"CN01\")).alias(\"soma\")).orderBy(col(\"soma\").desc()).display()"
   ]
  },
  {
   "cell_type": "markdown",
   "metadata": {
    "application/vnd.databricks.v1+cell": {
     "cellMetadata": {},
     "inputWidgets": {},
     "nuid": "c8f280e1-c850-4fa6-9b2d-6ae6b5960741",
     "showTitle": false,
     "tableResultSettingsMap": {},
     "title": ""
    }
   },
   "source": [
    "6"
   ]
  },
  {
   "cell_type": "code",
   "execution_count": 0,
   "metadata": {
    "application/vnd.databricks.v1+cell": {
     "cellMetadata": {
      "byteLimit": 2048000,
      "rowLimit": 10000
     },
     "inputWidgets": {},
     "nuid": "4ce30a0f-2313-44c2-bec9-29a124c3d312",
     "showTitle": false,
     "tableResultSettingsMap": {},
     "title": ""
    }
   },
   "outputs": [
    {
     "output_type": "stream",
     "name": "stdout",
     "output_type": "stream",
     "text": [
      "Out[118]: 193"
     ]
    }
   ],
   "source": [
    "df_alice.filter(col(\"value\").contains(\"one\")).count()"
   ]
  },
  {
   "cell_type": "code",
   "execution_count": 0,
   "metadata": {
    "application/vnd.databricks.v1+cell": {
     "cellMetadata": {
      "byteLimit": 2048000,
      "rowLimit": 10000
     },
     "inputWidgets": {},
     "nuid": "64ab1568-b7a9-4ff9-a225-3ad0760f603a",
     "showTitle": false,
     "tableResultSettingsMap": {},
     "title": ""
    }
   },
   "outputs": [],
   "source": [
    "alice_text = spark.read.text('dbfs:/FileStore/tables/alice_in_wonderland.txt')"
   ]
  },
  {
   "cell_type": "code",
   "execution_count": 0,
   "metadata": {
    "application/vnd.databricks.v1+cell": {
     "cellMetadata": {
      "byteLimit": 2048000,
      "rowLimit": 10000
     },
     "inputWidgets": {},
     "nuid": "c3614408-ced9-4d09-bd5f-d89768e3a42a",
     "showTitle": false,
     "tableResultSettingsMap": {},
     "title": ""
    }
   },
   "outputs": [
    {
     "output_type": "stream",
     "name": "stdout",
     "output_type": "stream",
     "text": [
      "Out[107]: 193"
     ]
    }
   ],
   "source": [
    "alice_text.filter(col(\"value\").contains(\"one\")).count()"
   ]
  },
  {
   "cell_type": "markdown",
   "metadata": {
    "application/vnd.databricks.v1+cell": {
     "cellMetadata": {},
     "inputWidgets": {},
     "nuid": "5bba6daf-fbc1-4cc5-92b2-d9e1b2f86df6",
     "showTitle": false,
     "tableResultSettingsMap": {},
     "title": ""
    }
   },
   "source": [
    "7"
   ]
  },
  {
   "cell_type": "code",
   "execution_count": 0,
   "metadata": {
    "application/vnd.databricks.v1+cell": {
     "cellMetadata": {
      "byteLimit": 2048000,
      "rowLimit": 10000
     },
     "inputWidgets": {},
     "nuid": "b8edd068-fb6c-43d5-bc5a-8c8512cbfafb",
     "showTitle": false,
     "tableResultSettingsMap": {},
     "title": ""
    }
   },
   "outputs": [],
   "source": [
    "df_24_id = spark.read.option(\"delimiter\", \";\").option(\"header\", True).option(\"inferSchema\", \"true\").csv('dbfs:/FileStore/tables/Test_Data_24_Id_Valid.csv')"
   ]
  },
  {
   "cell_type": "code",
   "execution_count": 0,
   "metadata": {
    "application/vnd.databricks.v1+cell": {
     "cellMetadata": {
      "byteLimit": 2048000,
      "rowLimit": 10000
     },
     "inputWidgets": {},
     "nuid": "485a8635-d7ae-4386-b11c-8832fa45bb00",
     "showTitle": false,
     "tableResultSettingsMap": {},
     "title": ""
    }
   },
   "outputs": [],
   "source": [
    "df_jnd = df_24.join(df_24_id, on='Id', how='left')"
   ]
  },
  {
   "cell_type": "code",
   "execution_count": 0,
   "metadata": {
    "application/vnd.databricks.v1+cell": {
     "cellMetadata": {
      "byteLimit": 2048000,
      "rowLimit": 10000
     },
     "inputWidgets": {},
     "nuid": "9a1d1cb0-7b73-432c-8a1f-f027fd6dac2d",
     "showTitle": false,
     "tableResultSettingsMap": {},
     "title": ""
    }
   },
   "outputs": [
    {
     "output_type": "stream",
     "name": "stdout",
     "output_type": "stream",
     "text": [
      "Out[123]: 66"
     ]
    }
   ],
   "source": [
    "df_jnd.filter( (col(\"Region\") == 'East') & (col(\"Valid\") == \"yes\") ).count()"
   ]
  },
  {
   "cell_type": "markdown",
   "metadata": {
    "application/vnd.databricks.v1+cell": {
     "cellMetadata": {},
     "inputWidgets": {},
     "nuid": "5f06e54a-e232-47de-a8b9-fe9810e83b4e",
     "showTitle": false,
     "tableResultSettingsMap": {},
     "title": ""
    }
   },
   "source": [
    "8"
   ]
  },
  {
   "cell_type": "code",
   "execution_count": 0,
   "metadata": {
    "application/vnd.databricks.v1+cell": {
     "cellMetadata": {
      "byteLimit": 2048000,
      "rowLimit": 10000
     },
     "inputWidgets": {},
     "nuid": "c83abd81-1773-46b6-bb18-48a24c7e974e",
     "showTitle": false,
     "tableResultSettingsMap": {},
     "title": ""
    }
   },
   "outputs": [],
   "source": [
    "df_25 = spark.read.option(\"delimiter\", \";\").option(\"header\", True).option(\"inferSchema\", \"true\").csv('dbfs:/FileStore/tables/Test_Data_25.csv')"
   ]
  },
  {
   "cell_type": "code",
   "execution_count": 0,
   "metadata": {
    "application/vnd.databricks.v1+cell": {
     "cellMetadata": {
      "byteLimit": 2048000,
      "rowLimit": 10000
     },
     "inputWidgets": {},
     "nuid": "12cacd56-3b1a-4fd2-a0da-27948c328a52",
     "showTitle": false,
     "tableResultSettingsMap": {},
     "title": ""
    }
   },
   "outputs": [],
   "source": [
    "df_fnl = df_24.union(df_25)"
   ]
  },
  {
   "cell_type": "code",
   "execution_count": 0,
   "metadata": {
    "application/vnd.databricks.v1+cell": {
     "cellMetadata": {
      "byteLimit": 2048000,
      "rowLimit": 10000
     },
     "inputWidgets": {},
     "nuid": "5777b3fd-85d2-4142-bde2-2aff5b3fb44f",
     "showTitle": false,
     "tableResultSettingsMap": {},
     "title": ""
    }
   },
   "outputs": [
    {
     "output_type": "stream",
     "name": "stdout",
     "output_type": "stream",
     "text": [
      "Out[127]: 155"
     ]
    }
   ],
   "source": [
    "df_fnl.filter(col(\"Region\") == \"South\").count()"
   ]
  },
  {
   "cell_type": "markdown",
   "metadata": {
    "application/vnd.databricks.v1+cell": {
     "cellMetadata": {},
     "inputWidgets": {},
     "nuid": "0a36115c-fd48-4fa3-8dd1-1caf149b1479",
     "showTitle": false,
     "tableResultSettingsMap": {},
     "title": ""
    }
   },
   "source": [
    "9"
   ]
  },
  {
   "cell_type": "code",
   "execution_count": 0,
   "metadata": {
    "application/vnd.databricks.v1+cell": {
     "cellMetadata": {
      "byteLimit": 2048000,
      "rowLimit": 10000
     },
     "inputWidgets": {},
     "nuid": "4da2f0aa-ca6b-4c58-9026-2ac3f4c871aa",
     "showTitle": false,
     "tableResultSettingsMap": {},
     "title": ""
    }
   },
   "outputs": [
    {
     "output_type": "stream",
     "name": "stdout",
     "output_type": "stream",
     "text": [
      "+----------+\n|avg(count)|\n+----------+\n|  1671.476|\n+----------+\n\n"
     ]
    }
   ],
   "source": [
    "df_flights.select(avg(col(\"count\"))).show()"
   ]
  },
  {
   "cell_type": "markdown",
   "metadata": {
    "application/vnd.databricks.v1+cell": {
     "cellMetadata": {},
     "inputWidgets": {},
     "nuid": "3f5b8535-da7f-430c-b20a-aad613c0e218",
     "showTitle": false,
     "tableResultSettingsMap": {},
     "title": ""
    }
   },
   "source": [
    "10"
   ]
  },
  {
   "cell_type": "code",
   "execution_count": 0,
   "metadata": {
    "application/vnd.databricks.v1+cell": {
     "cellMetadata": {
      "byteLimit": 2048000,
      "rowLimit": 10000
     },
     "inputWidgets": {},
     "nuid": "63e27798-5f85-4c99-90e9-0ea6e5c15930",
     "showTitle": false,
     "tableResultSettingsMap": {},
     "title": ""
    }
   },
   "outputs": [],
   "source": [
    "x = list(range(100))\n",
    "df_new = spark.createDataFrame(x, IntegerType()).toDF('id')"
   ]
  },
  {
   "cell_type": "code",
   "execution_count": 0,
   "metadata": {
    "application/vnd.databricks.v1+cell": {
     "cellMetadata": {
      "byteLimit": 2048000,
      "rowLimit": 10000
     },
     "inputWidgets": {},
     "nuid": "b2875c25-9170-41b4-92ac-8917b0a3dc70",
     "showTitle": false,
     "tableResultSettingsMap": {},
     "title": ""
    }
   },
   "outputs": [
    {
     "output_type": "display_data",
     "data": {
      "text/html": [
       "<style scoped>\n",
       "  .table-result-container {\n",
       "    max-height: 300px;\n",
       "    overflow: auto;\n",
       "  }\n",
       "  table, th, td {\n",
       "    border: 1px solid black;\n",
       "    border-collapse: collapse;\n",
       "  }\n",
       "  th, td {\n",
       "    padding: 5px;\n",
       "  }\n",
       "  th {\n",
       "    text-align: left;\n",
       "  }\n",
       "</style><div class='table-result-container'><table class='table-result'><thead style='background-color: white'><tr><th>id</th></tr></thead><tbody><tr><td>0</td></tr><tr><td>1</td></tr><tr><td>2</td></tr><tr><td>3</td></tr><tr><td>4</td></tr><tr><td>5</td></tr><tr><td>6</td></tr><tr><td>7</td></tr><tr><td>8</td></tr><tr><td>9</td></tr><tr><td>10</td></tr><tr><td>11</td></tr><tr><td>12</td></tr><tr><td>13</td></tr><tr><td>14</td></tr><tr><td>15</td></tr><tr><td>16</td></tr><tr><td>17</td></tr><tr><td>18</td></tr><tr><td>19</td></tr><tr><td>20</td></tr><tr><td>21</td></tr><tr><td>22</td></tr><tr><td>23</td></tr><tr><td>24</td></tr><tr><td>25</td></tr><tr><td>26</td></tr><tr><td>27</td></tr><tr><td>28</td></tr><tr><td>29</td></tr><tr><td>30</td></tr><tr><td>31</td></tr><tr><td>32</td></tr><tr><td>33</td></tr><tr><td>34</td></tr><tr><td>35</td></tr><tr><td>36</td></tr><tr><td>37</td></tr><tr><td>38</td></tr><tr><td>39</td></tr><tr><td>40</td></tr><tr><td>41</td></tr><tr><td>42</td></tr><tr><td>43</td></tr><tr><td>44</td></tr><tr><td>45</td></tr><tr><td>46</td></tr><tr><td>47</td></tr><tr><td>48</td></tr><tr><td>49</td></tr><tr><td>50</td></tr><tr><td>51</td></tr><tr><td>52</td></tr><tr><td>53</td></tr><tr><td>54</td></tr><tr><td>55</td></tr><tr><td>56</td></tr><tr><td>57</td></tr><tr><td>58</td></tr><tr><td>59</td></tr><tr><td>60</td></tr><tr><td>61</td></tr><tr><td>62</td></tr><tr><td>63</td></tr><tr><td>64</td></tr><tr><td>65</td></tr><tr><td>66</td></tr><tr><td>67</td></tr><tr><td>68</td></tr><tr><td>69</td></tr><tr><td>70</td></tr><tr><td>71</td></tr><tr><td>72</td></tr><tr><td>73</td></tr><tr><td>74</td></tr><tr><td>75</td></tr><tr><td>76</td></tr><tr><td>77</td></tr><tr><td>78</td></tr><tr><td>79</td></tr><tr><td>80</td></tr><tr><td>81</td></tr><tr><td>82</td></tr><tr><td>83</td></tr><tr><td>84</td></tr><tr><td>85</td></tr><tr><td>86</td></tr><tr><td>87</td></tr><tr><td>88</td></tr><tr><td>89</td></tr><tr><td>90</td></tr><tr><td>91</td></tr><tr><td>92</td></tr><tr><td>93</td></tr><tr><td>94</td></tr><tr><td>95</td></tr><tr><td>96</td></tr><tr><td>97</td></tr><tr><td>98</td></tr><tr><td>99</td></tr></tbody></table></div>"
      ]
     },
     "metadata": {
      "application/vnd.databricks.v1+output": {
       "addedWidgets": {},
       "aggData": [],
       "aggError": "",
       "aggOverflow": false,
       "aggSchema": [],
       "aggSeriesLimitReached": false,
       "aggType": "",
       "arguments": {},
       "columnCustomDisplayInfos": {},
       "data": [
        [
         0
        ],
        [
         1
        ],
        [
         2
        ],
        [
         3
        ],
        [
         4
        ],
        [
         5
        ],
        [
         6
        ],
        [
         7
        ],
        [
         8
        ],
        [
         9
        ],
        [
         10
        ],
        [
         11
        ],
        [
         12
        ],
        [
         13
        ],
        [
         14
        ],
        [
         15
        ],
        [
         16
        ],
        [
         17
        ],
        [
         18
        ],
        [
         19
        ],
        [
         20
        ],
        [
         21
        ],
        [
         22
        ],
        [
         23
        ],
        [
         24
        ],
        [
         25
        ],
        [
         26
        ],
        [
         27
        ],
        [
         28
        ],
        [
         29
        ],
        [
         30
        ],
        [
         31
        ],
        [
         32
        ],
        [
         33
        ],
        [
         34
        ],
        [
         35
        ],
        [
         36
        ],
        [
         37
        ],
        [
         38
        ],
        [
         39
        ],
        [
         40
        ],
        [
         41
        ],
        [
         42
        ],
        [
         43
        ],
        [
         44
        ],
        [
         45
        ],
        [
         46
        ],
        [
         47
        ],
        [
         48
        ],
        [
         49
        ],
        [
         50
        ],
        [
         51
        ],
        [
         52
        ],
        [
         53
        ],
        [
         54
        ],
        [
         55
        ],
        [
         56
        ],
        [
         57
        ],
        [
         58
        ],
        [
         59
        ],
        [
         60
        ],
        [
         61
        ],
        [
         62
        ],
        [
         63
        ],
        [
         64
        ],
        [
         65
        ],
        [
         66
        ],
        [
         67
        ],
        [
         68
        ],
        [
         69
        ],
        [
         70
        ],
        [
         71
        ],
        [
         72
        ],
        [
         73
        ],
        [
         74
        ],
        [
         75
        ],
        [
         76
        ],
        [
         77
        ],
        [
         78
        ],
        [
         79
        ],
        [
         80
        ],
        [
         81
        ],
        [
         82
        ],
        [
         83
        ],
        [
         84
        ],
        [
         85
        ],
        [
         86
        ],
        [
         87
        ],
        [
         88
        ],
        [
         89
        ],
        [
         90
        ],
        [
         91
        ],
        [
         92
        ],
        [
         93
        ],
        [
         94
        ],
        [
         95
        ],
        [
         96
        ],
        [
         97
        ],
        [
         98
        ],
        [
         99
        ]
       ],
       "datasetInfos": [],
       "dbfsResultPath": null,
       "isJsonSchema": true,
       "metadata": {},
       "overflow": false,
       "plotOptions": {
        "customPlotOptions": {},
        "displayType": "table",
        "pivotAggregation": null,
        "pivotColumns": null,
        "xColumns": null,
        "yColumns": null
       },
       "removedWidgets": [],
       "schema": [
        {
         "metadata": "{}",
         "name": "id",
         "type": "\"integer\""
        }
       ],
       "type": "table"
      }
     },
     "output_type": "display_data"
    }
   ],
   "source": [
    "df_new.display()"
   ]
  },
  {
   "cell_type": "code",
   "execution_count": 0,
   "metadata": {
    "application/vnd.databricks.v1+cell": {
     "cellMetadata": {
      "byteLimit": 2048000,
      "rowLimit": 10000
     },
     "inputWidgets": {},
     "nuid": "f3e4d6e0-3d9f-47a4-a736-768f0f70fe50",
     "showTitle": false,
     "tableResultSettingsMap": {},
     "title": ""
    }
   },
   "outputs": [],
   "source": [
    "df_new.write.format(\"delta\").save(\"dbfs:/FileStore/tables/Numbers_2_delete\")\n"
   ]
  },
  {
   "cell_type": "code",
   "execution_count": 0,
   "metadata": {
    "application/vnd.databricks.v1+cell": {
     "cellMetadata": {
      "byteLimit": 2048000,
      "rowLimit": 10000
     },
     "inputWidgets": {},
     "nuid": "025d0d10-cb56-4784-8eb0-f017255e562a",
     "showTitle": false,
     "tableResultSettingsMap": {},
     "title": ""
    }
   },
   "outputs": [
    {
     "output_type": "display_data",
     "data": {
      "text/html": [
       "<style scoped>\n",
       "  .table-result-container {\n",
       "    max-height: 300px;\n",
       "    overflow: auto;\n",
       "  }\n",
       "  table, th, td {\n",
       "    border: 1px solid black;\n",
       "    border-collapse: collapse;\n",
       "  }\n",
       "  th, td {\n",
       "    padding: 5px;\n",
       "  }\n",
       "  th {\n",
       "    text-align: left;\n",
       "  }\n",
       "</style><div class='table-result-container'><table class='table-result'><thead style='background-color: white'><tr><th>path</th><th>name</th><th>size</th><th>modificationTime</th></tr></thead><tbody><tr><td>dbfs:/FileStore/tables/Numbers_2_delete/_delta_log/</td><td>_delta_log/</td><td>0</td><td>0</td></tr><tr><td>dbfs:/FileStore/tables/Numbers_2_delete/part-00000-db8b9717-620f-4a45-81a5-3a623d68dac5-c000.snappy.parquet</td><td>part-00000-db8b9717-620f-4a45-81a5-3a623d68dac5-c000.snappy.parquet</td><td>622</td><td>1730933918000</td></tr><tr><td>dbfs:/FileStore/tables/Numbers_2_delete/part-00001-be412f8f-bc94-4df1-bd3d-09560b3f518c-c000.snappy.parquet</td><td>part-00001-be412f8f-bc94-4df1-bd3d-09560b3f518c-c000.snappy.parquet</td><td>625</td><td>1730933918000</td></tr><tr><td>dbfs:/FileStore/tables/Numbers_2_delete/part-00002-bc0992ba-3095-49f5-8496-4801e48ff561-c000.snappy.parquet</td><td>part-00002-bc0992ba-3095-49f5-8496-4801e48ff561-c000.snappy.parquet</td><td>625</td><td>1730933918000</td></tr><tr><td>dbfs:/FileStore/tables/Numbers_2_delete/part-00003-efdc9a65-31c0-4740-89ff-712caa2cdf1e-c000.snappy.parquet</td><td>part-00003-efdc9a65-31c0-4740-89ff-712caa2cdf1e-c000.snappy.parquet</td><td>625</td><td>1730933918000</td></tr><tr><td>dbfs:/FileStore/tables/Numbers_2_delete/part-00004-90b4eeee-d7f5-4f57-87b5-5b024a34f169-c000.snappy.parquet</td><td>part-00004-90b4eeee-d7f5-4f57-87b5-5b024a34f169-c000.snappy.parquet</td><td>625</td><td>1730933918000</td></tr><tr><td>dbfs:/FileStore/tables/Numbers_2_delete/part-00005-ef48f0eb-9b83-446a-87de-7fcf8d527fa3-c000.snappy.parquet</td><td>part-00005-ef48f0eb-9b83-446a-87de-7fcf8d527fa3-c000.snappy.parquet</td><td>625</td><td>1730933918000</td></tr><tr><td>dbfs:/FileStore/tables/Numbers_2_delete/part-00006-933a26ec-233a-460e-9bf6-831e45ef844e-c000.snappy.parquet</td><td>part-00006-933a26ec-233a-460e-9bf6-831e45ef844e-c000.snappy.parquet</td><td>625</td><td>1730933918000</td></tr><tr><td>dbfs:/FileStore/tables/Numbers_2_delete/part-00007-be4ecc78-6d39-404d-ba77-105bf3c46e0f-c000.snappy.parquet</td><td>part-00007-be4ecc78-6d39-404d-ba77-105bf3c46e0f-c000.snappy.parquet</td><td>644</td><td>1730933918000</td></tr></tbody></table></div>"
      ]
     },
     "metadata": {
      "application/vnd.databricks.v1+output": {
       "addedWidgets": {},
       "aggData": [],
       "aggError": "",
       "aggOverflow": false,
       "aggSchema": [],
       "aggSeriesLimitReached": false,
       "aggType": "",
       "arguments": {},
       "columnCustomDisplayInfos": {},
       "data": [
        [
         "dbfs:/FileStore/tables/Numbers_2_delete/_delta_log/",
         "_delta_log/",
         0,
         0
        ],
        [
         "dbfs:/FileStore/tables/Numbers_2_delete/part-00000-db8b9717-620f-4a45-81a5-3a623d68dac5-c000.snappy.parquet",
         "part-00000-db8b9717-620f-4a45-81a5-3a623d68dac5-c000.snappy.parquet",
         622,
         1730933918000
        ],
        [
         "dbfs:/FileStore/tables/Numbers_2_delete/part-00001-be412f8f-bc94-4df1-bd3d-09560b3f518c-c000.snappy.parquet",
         "part-00001-be412f8f-bc94-4df1-bd3d-09560b3f518c-c000.snappy.parquet",
         625,
         1730933918000
        ],
        [
         "dbfs:/FileStore/tables/Numbers_2_delete/part-00002-bc0992ba-3095-49f5-8496-4801e48ff561-c000.snappy.parquet",
         "part-00002-bc0992ba-3095-49f5-8496-4801e48ff561-c000.snappy.parquet",
         625,
         1730933918000
        ],
        [
         "dbfs:/FileStore/tables/Numbers_2_delete/part-00003-efdc9a65-31c0-4740-89ff-712caa2cdf1e-c000.snappy.parquet",
         "part-00003-efdc9a65-31c0-4740-89ff-712caa2cdf1e-c000.snappy.parquet",
         625,
         1730933918000
        ],
        [
         "dbfs:/FileStore/tables/Numbers_2_delete/part-00004-90b4eeee-d7f5-4f57-87b5-5b024a34f169-c000.snappy.parquet",
         "part-00004-90b4eeee-d7f5-4f57-87b5-5b024a34f169-c000.snappy.parquet",
         625,
         1730933918000
        ],
        [
         "dbfs:/FileStore/tables/Numbers_2_delete/part-00005-ef48f0eb-9b83-446a-87de-7fcf8d527fa3-c000.snappy.parquet",
         "part-00005-ef48f0eb-9b83-446a-87de-7fcf8d527fa3-c000.snappy.parquet",
         625,
         1730933918000
        ],
        [
         "dbfs:/FileStore/tables/Numbers_2_delete/part-00006-933a26ec-233a-460e-9bf6-831e45ef844e-c000.snappy.parquet",
         "part-00006-933a26ec-233a-460e-9bf6-831e45ef844e-c000.snappy.parquet",
         625,
         1730933918000
        ],
        [
         "dbfs:/FileStore/tables/Numbers_2_delete/part-00007-be4ecc78-6d39-404d-ba77-105bf3c46e0f-c000.snappy.parquet",
         "part-00007-be4ecc78-6d39-404d-ba77-105bf3c46e0f-c000.snappy.parquet",
         644,
         1730933918000
        ]
       ],
       "datasetInfos": [],
       "dbfsResultPath": null,
       "isJsonSchema": true,
       "metadata": {
        "isDbfsCommandResult": false
       },
       "overflow": false,
       "plotOptions": {
        "customPlotOptions": {},
        "displayType": "table",
        "pivotAggregation": null,
        "pivotColumns": null,
        "xColumns": null,
        "yColumns": null
       },
       "removedWidgets": [],
       "schema": [
        {
         "metadata": "{}",
         "name": "path",
         "type": "\"string\""
        },
        {
         "metadata": "{}",
         "name": "name",
         "type": "\"string\""
        },
        {
         "metadata": "{}",
         "name": "size",
         "type": "\"long\""
        },
        {
         "metadata": "{}",
         "name": "modificationTime",
         "type": "\"long\""
        }
       ],
       "type": "table"
      }
     },
     "output_type": "display_data"
    }
   ],
   "source": [
    "%fs ls dbfs:/FileStore/tables/Numbers_2_delete"
   ]
  }
 ],
 "metadata": {
  "application/vnd.databricks.v1+notebook": {
   "dashboards": [],
   "environmentMetadata": null,
   "language": "python",
   "notebookMetadata": {
    "mostRecentlyExecutedCommandWithImplicitDF": {
     "commandId": 2605634204417958,
     "dataframes": [
      "_sqldf"
     ]
    },
    "pythonIndentUnit": 2
   },
   "notebookName": "mtt_prep",
   "widgets": {}
  }
 },
 "nbformat": 4,
 "nbformat_minor": 0
}
